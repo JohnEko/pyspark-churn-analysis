{
 "cells": [
  {
   "cell_type": "markdown",
   "id": "d8201e64",
   "metadata": {},
   "source": [
    "# Exploratory Data Analysis Using PYSPARK and Machine Learning models"
   ]
  },
  {
   "cell_type": "code",
   "execution_count": 1,
   "id": "98cfaa6f",
   "metadata": {},
   "outputs": [
    {
     "name": "stdout",
     "output_type": "stream",
     "text": [
      "Python 3.10.6\r\n"
     ]
    }
   ],
   "source": [
    "!python3 --version"
   ]
  },
  {
   "cell_type": "code",
   "execution_count": 2,
   "id": "5f7f1943",
   "metadata": {},
   "outputs": [
    {
     "name": "stdout",
     "output_type": "stream",
     "text": [
      "Selected Jupyter core packages...\n",
      "IPython          : 7.31.1\n",
      "ipykernel        : 6.7.0\n",
      "ipywidgets       : 6.0.0\n",
      "jupyter_client   : 7.1.2\n",
      "jupyter_core     : 4.9.1\n",
      "jupyter_server   : not installed\n",
      "jupyterlab       : not installed\n",
      "nbclient         : 0.5.6\n",
      "nbconvert        : 6.4.0\n",
      "nbformat         : 5.1.3\n",
      "notebook         : 6.4.8\n",
      "qtconsole        : not installed\n",
      "traitlets        : 5.1.1\n"
     ]
    }
   ],
   "source": [
    "!jupyter --version"
   ]
  },
  {
   "cell_type": "code",
   "execution_count": 2,
   "id": "b2f5a310",
   "metadata": {},
   "outputs": [
    {
     "name": "stdout",
     "output_type": "stream",
     "text": [
      "Defaulting to user installation because normal site-packages is not writeable\n",
      "Collecting pyspark\n",
      "  Downloading pyspark-3.3.1.tar.gz (281.4 MB)\n",
      "\u001b[2K     \u001b[38;2;114;156;31m━━━━━━━━━━━━━━━━━━━━━━━━━━━━━━━━━━━━━\u001b[0m \u001b[32m281.4/281.4 MB\u001b[0m \u001b[31m345.2 kB/s\u001b[0m eta \u001b[36m0:00:00\u001b[0mm eta \u001b[36m0:00:01\u001b[0m[36m0:00:02\u001b[0m\n",
      "\u001b[?25h  Preparing metadata (setup.py) ... \u001b[?25ldone\n",
      "\u001b[?25hCollecting py4j==0.10.9.5\n",
      "  Downloading py4j-0.10.9.5-py2.py3-none-any.whl (199 kB)\n",
      "\u001b[2K     \u001b[38;2;114;156;31m━━━━━━━━━━━━━━━━━━━━━━━━━━━━━━━━━━━━━━━\u001b[0m \u001b[32m199.7/199.7 KB\u001b[0m \u001b[31m2.5 MB/s\u001b[0m eta \u001b[36m0:00:00\u001b[0m[36m0:00:01\u001b[0m\n",
      "\u001b[?25hBuilding wheels for collected packages: pyspark\n",
      "  Building wheel for pyspark (setup.py) ... \u001b[?25ldone\n",
      "\u001b[?25h  Created wheel for pyspark: filename=pyspark-3.3.1-py2.py3-none-any.whl size=281845509 sha256=42a4eaf1d47c87bf716487d9df82438c83b2e30ef5a5e4821bbabeee8db64b72\n",
      "  Stored in directory: /home/bigdata/.cache/pip/wheels/0f/f0/3d/517368b8ce80486e84f89f214e0a022554e4ee64969f46279b\n",
      "Successfully built pyspark\n",
      "Installing collected packages: py4j, pyspark\n",
      "Successfully installed py4j-0.10.9.5 pyspark-3.3.1\n",
      "Note: you may need to restart the kernel to use updated packages.\n"
     ]
    }
   ],
   "source": [
    "pip install pyspark"
   ]
  },
  {
   "cell_type": "code",
   "execution_count": 6,
   "id": "a8a604d1",
   "metadata": {},
   "outputs": [
    {
     "name": "stdout",
     "output_type": "stream",
     "text": [
      "Defaulting to user installation because normal site-packages is not writeable\n",
      "Requirement already satisfied: findspark in ./.local/lib/python3.10/site-packages (2.0.1)\n",
      "Note: you may need to restart the kernel to use updated packages.\n"
     ]
    }
   ],
   "source": [
    "pip install findspark\n"
   ]
  },
  {
   "cell_type": "code",
   "execution_count": 14,
   "id": "d7d44df5",
   "metadata": {},
   "outputs": [
    {
     "name": "stdout",
     "output_type": "stream",
     "text": [
      "Defaulting to user installation because normal site-packages is not writeable\n",
      "Collecting pyspark_dist_explore\n",
      "  Downloading pyspark_dist_explore-0.1.8-py3-none-any.whl (7.2 kB)\n",
      "Requirement already satisfied: matplotlib in /usr/lib/python3/dist-packages (from pyspark_dist_explore) (3.5.1)\n",
      "Requirement already satisfied: pandas in ./.local/lib/python3.10/site-packages (from pyspark_dist_explore) (1.5.1)\n",
      "Requirement already satisfied: scipy in /usr/lib/python3/dist-packages (from pyspark_dist_explore) (1.8.0)\n",
      "Requirement already satisfied: numpy in /usr/lib/python3/dist-packages (from pyspark_dist_explore) (1.21.5)\n",
      "Requirement already satisfied: pytz>=2020.1 in /usr/lib/python3/dist-packages (from pandas->pyspark_dist_explore) (2022.1)\n",
      "Requirement already satisfied: python-dateutil>=2.8.1 in /usr/lib/python3/dist-packages (from pandas->pyspark_dist_explore) (2.8.1)\n",
      "Installing collected packages: pyspark_dist_explore\n",
      "Successfully installed pyspark_dist_explore-0.1.8\n",
      "Note: you may need to restart the kernel to use updated packages.\n"
     ]
    }
   ],
   "source": [
    "pip install pyspark_dist_explore"
   ]
  },
  {
   "cell_type": "code",
   "execution_count": null,
   "id": "115c83bb",
   "metadata": {},
   "outputs": [],
   "source": []
  },
  {
   "cell_type": "code",
   "execution_count": 36,
   "id": "b09d7941",
   "metadata": {
    "scrolled": true
   },
   "outputs": [
    {
     "name": "stdout",
     "output_type": "stream",
     "text": [
      "22/12/05 12:47:11 WARN SparkSession: Using an existing Spark session; only runtime SQL configurations will take effect.\n",
      "Explore the data and analysis the assignment\n"
     ]
    }
   ],
   "source": [
    "import findspark\n",
    "import warnings\n",
    "warnings.filterwarnings('ignore')\n",
    "import matplotlib.pyplot as plt\n",
    "%matplotlib inline\n",
    "import pandas as pd\n",
    "#pd.options.display.mpl_style = 'default'\n",
    "import numpy as np\n",
    "from pyspark.sql.types import *\n",
    "from pyspark.sql import Row\n",
    "import seaborn as sns\n",
    "from pyspark import SparkContext\n",
    "from pyspark import SQLContext\n",
    "findspark.init()\n",
    "\n",
    "\n",
    "from pyspark.sql import SparkSession\n",
    "sc = SparkSession.builder \\\n",
    "     .appName(\"Churn data Analysis\") \\\n",
    "     .master(\"local[*]\") \\\n",
    "     .config(\"spark.jars\",\"/spark-tree-plotting/*\") \\\n",
    "     .config(\"spark.jars.packages\", '--jars /path/to/the/spark-tree-plotting_0.2.jar') \\\n",
    "     .config(\"spark.driver.memory\", '--driver-class-path /path/to/the/spark-tree-plotting_0.2.jar') \\\n",
    "     .getOrCreate()\n",
    "    \n",
    "#spark_con = SparkContext(sc=sc)\n",
    "spark = SQLContext(sc)   \n",
    "\n",
    "\n",
    "print(\"Explore the data and analysis the assignment\")"
   ]
  },
  {
   "cell_type": "code",
   "execution_count": 2,
   "id": "6e404906",
   "metadata": {},
   "outputs": [
    {
     "name": "stderr",
     "output_type": "stream",
     "text": [
      "[Stage 1:>                                                          (0 + 1) / 1]\r"
     ]
    },
    {
     "name": "stdout",
     "output_type": "stream",
     "text": [
      "root\n",
      " |-- AccountLength: integer (nullable = true)\n",
      " |-- VMailMessage: integer (nullable = true)\n",
      " |-- DayMins: double (nullable = true)\n",
      " |-- EveMins: double (nullable = true)\n",
      " |-- NightMins: double (nullable = true)\n",
      " |-- IntlMins: double (nullable = true)\n",
      " |-- CustServCalls: integer (nullable = true)\n",
      " |-- Churn: integer (nullable = true)\n",
      " |-- IntlPlan: integer (nullable = true)\n",
      " |-- VMailPlan: integer (nullable = true)\n",
      " |-- DayCalls: integer (nullable = true)\n",
      " |-- DayCharge: double (nullable = true)\n",
      " |-- EveCalls: integer (nullable = true)\n",
      " |-- EveCharge: double (nullable = true)\n",
      " |-- NightCalls: integer (nullable = true)\n",
      " |-- NightCharge: double (nullable = true)\n",
      " |-- IntlCalls: integer (nullable = true)\n",
      " |-- IntlCharge: double (nullable = true)\n",
      " |-- State: string (nullable = true)\n",
      " |-- AreaCode: integer (nullable = true)\n",
      " |-- Phone: string (nullable = true)\n",
      "\n"
     ]
    },
    {
     "name": "stderr",
     "output_type": "stream",
     "text": [
      "\r",
      "                                                                                \r"
     ]
    }
   ],
   "source": [
    "df = spark.read.csv(\"/home/bigdata/TelecomCustomerAnalysis/Churn.csv\", header=True, inferSchema=True)\n",
    "df.printSchema()"
   ]
  },
  {
   "cell_type": "code",
   "execution_count": 3,
   "id": "1ca49515",
   "metadata": {
    "scrolled": true
   },
   "outputs": [
    {
     "name": "stderr",
     "output_type": "stream",
     "text": [
      "                                                                                \r"
     ]
    },
    {
     "name": "stdout",
     "output_type": "stream",
     "text": [
      "+-------------+------------+-------+-------+---------+--------+-------------+-----+--------+---------+--------+---------+--------+---------+----------+-----------+---------+----------+-----+--------+--------+\n",
      "|AccountLength|VMailMessage|DayMins|EveMins|NightMins|IntlMins|CustServCalls|Churn|IntlPlan|VMailPlan|DayCalls|DayCharge|EveCalls|EveCharge|NightCalls|NightCharge|IntlCalls|IntlCharge|State|AreaCode|   Phone|\n",
      "+-------------+------------+-------+-------+---------+--------+-------------+-----+--------+---------+--------+---------+--------+---------+----------+-----------+---------+----------+-----+--------+--------+\n",
      "|          128|          25|  265.1|  197.4|    244.7|    10.0|            1|    0|       0|        1|     110|    45.07|      99|    16.78|        91|      11.01|        3|       2.7|   KS|     415|382-4657|\n",
      "|          107|          26|  161.6|  195.5|    254.4|    13.7|            1|    0|       0|        1|     123|    27.47|     103|    16.62|       103|      11.45|        3|       3.7|   OH|     415|371-7191|\n",
      "|          137|           0|  243.4|  121.2|    162.6|    12.2|            0|    0|       0|        0|     114|    41.38|     110|     10.3|       104|       7.32|        5|      3.29|   NJ|     415|358-1921|\n",
      "|           84|           0|  299.4|   61.9|    196.9|     6.6|            2|    0|       1|        0|      71|     50.9|      88|     5.26|        89|       8.86|        7|      1.78|   OH|     408|375-9999|\n",
      "|           75|           0|  166.7|  148.3|    186.9|    10.1|            3|    0|       1|        0|     113|    28.34|     122|    12.61|       121|       8.41|        3|      2.73|   OK|     415|330-6626|\n",
      "+-------------+------------+-------+-------+---------+--------+-------------+-----+--------+---------+--------+---------+--------+---------+----------+-----------+---------+----------+-----+--------+--------+\n",
      "only showing top 5 rows\n",
      "\n"
     ]
    }
   ],
   "source": [
    "df.show(5)"
   ]
  },
  {
   "cell_type": "code",
   "execution_count": 4,
   "id": "0f182246",
   "metadata": {},
   "outputs": [
    {
     "data": {
      "text/plain": [
       "['AccountLength',\n",
       " 'VMailMessage',\n",
       " 'DayMins',\n",
       " 'EveMins',\n",
       " 'NightMins',\n",
       " 'IntlMins',\n",
       " 'CustServCalls',\n",
       " 'Churn',\n",
       " 'IntlPlan',\n",
       " 'VMailPlan',\n",
       " 'DayCalls',\n",
       " 'DayCharge',\n",
       " 'EveCalls',\n",
       " 'EveCharge',\n",
       " 'NightCalls',\n",
       " 'NightCharge',\n",
       " 'IntlCalls',\n",
       " 'IntlCharge',\n",
       " 'State',\n",
       " 'AreaCode',\n",
       " 'Phone']"
      ]
     },
     "execution_count": 4,
     "metadata": {},
     "output_type": "execute_result"
    }
   ],
   "source": [
    "df.columns"
   ]
  },
  {
   "cell_type": "markdown",
   "id": "beaa6857",
   "metadata": {},
   "source": [
    "# Account.Length: how long account has been active."
   ]
  },
  {
   "cell_type": "code",
   "execution_count": 5,
   "id": "cb75c121",
   "metadata": {},
   "outputs": [
    {
     "name": "stdout",
     "output_type": "stream",
     "text": [
      "+-------------+\n",
      "|AccountLength|\n",
      "+-------------+\n",
      "|          128|\n",
      "|          107|\n",
      "|          137|\n",
      "|           84|\n",
      "|           75|\n",
      "|          118|\n",
      "|          121|\n",
      "|          147|\n",
      "|          117|\n",
      "|          141|\n",
      "|           65|\n",
      "|           74|\n",
      "|          168|\n",
      "|           95|\n",
      "|           62|\n",
      "|          161|\n",
      "|           85|\n",
      "|           93|\n",
      "|           76|\n",
      "|           73|\n",
      "+-------------+\n",
      "only showing top 20 rows\n",
      "\n"
     ]
    }
   ],
   "source": [
    "df.select('AccountLength').show()\n",
    "\n",
    "\n",
    "#df['Churn']= df['Churn'].astype('category')\n",
    "#df['Intl Plan']= df['Intl Plan'].astype('category')\n",
    "#df['VMail Plan']= df['VMail Plan'].astype('category')"
   ]
  },
  {
   "cell_type": "markdown",
   "id": "3e87744f",
   "metadata": {},
   "source": [
    "# The sum of all the accountlenght registered"
   ]
  },
  {
   "cell_type": "code",
   "execution_count": 58,
   "id": "15f85dc0",
   "metadata": {},
   "outputs": [
    {
     "name": "stdout",
     "output_type": "stream",
     "text": [
      "+------------------+\n",
      "|max(AccountLength)|\n",
      "+------------------+\n",
      "|                99|\n",
      "+------------------+\n",
      "\n",
      "+------------------+\n",
      "|sum(AccountLength)|\n",
      "+------------------+\n",
      "|336849.0          |\n",
      "+------------------+\n",
      "\n"
     ]
    }
   ],
   "source": [
    "df.agg({'AccountLength' : 'max'}).show()\n",
    "df.agg({'AccountLength' : 'sum'}).show(truncate=False)\n",
    "#df.select([max('AccountLength')]).show()"
   ]
  },
  {
   "cell_type": "code",
   "execution_count": 59,
   "id": "601fdcc9",
   "metadata": {},
   "outputs": [
    {
     "data": {
      "text/plain": [
       "DataFrame[Churn: string, IntlPlan: string, VMailPlan: string]"
      ]
     },
     "execution_count": 59,
     "metadata": {},
     "output_type": "execute_result"
    }
   ],
   "source": [
    "df.select(['Churn','IntlPlan', 'VMailPlan' ])\n"
   ]
  },
  {
   "cell_type": "code",
   "execution_count": 6,
   "id": "d5648808",
   "metadata": {},
   "outputs": [
    {
     "name": "stdout",
     "output_type": "stream",
     "text": [
      "root\n",
      " |-- AccountLength: integer (nullable = true)\n",
      " |-- VMailMessage: integer (nullable = true)\n",
      " |-- DayMins: double (nullable = true)\n",
      " |-- EveMins: double (nullable = true)\n",
      " |-- NightMins: double (nullable = true)\n",
      " |-- IntlMins: double (nullable = true)\n",
      " |-- CustServCalls: integer (nullable = true)\n",
      " |-- Churn: integer (nullable = true)\n",
      " |-- IntlPlan: integer (nullable = true)\n",
      " |-- VMailPlan: integer (nullable = true)\n",
      " |-- DayCalls: integer (nullable = true)\n",
      " |-- DayCharge: double (nullable = true)\n",
      " |-- EveCalls: integer (nullable = true)\n",
      " |-- EveCharge: double (nullable = true)\n",
      " |-- NightCalls: integer (nullable = true)\n",
      " |-- NightCharge: double (nullable = true)\n",
      " |-- IntlCalls: integer (nullable = true)\n",
      " |-- IntlCharge: double (nullable = true)\n",
      " |-- State: string (nullable = true)\n",
      " |-- AreaCode: integer (nullable = true)\n",
      " |-- Phone: string (nullable = true)\n",
      "\n"
     ]
    }
   ],
   "source": [
    "from pyspark.sql.functions import col\n",
    "\n",
    "df_schema = df.withColumn('Churn', col('Churn').cast(IntegerType())) \\\n",
    "          .withColumn('IntlPlan', col('IntlPlan').cast(IntegerType())) \\\n",
    "          .withColumn('VMailPlan', col('VMailPlan').cast(IntegerType())) \\\n",
    "          .withColumn('VMailMessage', col('VMailMessage').cast(IntegerType()))\n",
    "\n",
    "df_schema.printSchema()\n"
   ]
  },
  {
   "cell_type": "code",
   "execution_count": 7,
   "id": "f1e3133a",
   "metadata": {},
   "outputs": [
    {
     "name": "stderr",
     "output_type": "stream",
     "text": [
      "                                                                                \r"
     ]
    },
    {
     "data": {
      "text/plain": [
       "3333"
      ]
     },
     "execution_count": 7,
     "metadata": {},
     "output_type": "execute_result"
    }
   ],
   "source": [
    "df.count()"
   ]
  },
  {
   "cell_type": "code",
   "execution_count": 8,
   "id": "0e578528",
   "metadata": {},
   "outputs": [
    {
     "name": "stderr",
     "output_type": "stream",
     "text": [
      "                                                                                \r"
     ]
    },
    {
     "data": {
      "text/plain": [
       "DataFrame[summary: string, AccountLength: string, VMailMessage: string, DayMins: string, EveMins: string, NightMins: string, IntlMins: string, CustServCalls: string, Churn: string, IntlPlan: string, VMailPlan: string, DayCalls: string, DayCharge: string, EveCalls: string, EveCharge: string, NightCalls: string, NightCharge: string, IntlCalls: string, IntlCharge: string, State: string, AreaCode: string, Phone: string]"
      ]
     },
     "execution_count": 8,
     "metadata": {},
     "output_type": "execute_result"
    }
   ],
   "source": [
    "df_schema.describe()"
   ]
  },
  {
   "cell_type": "code",
   "execution_count": 9,
   "id": "716ede06",
   "metadata": {},
   "outputs": [
    {
     "name": "stdout",
     "output_type": "stream",
     "text": [
      "+------------+\n",
      "|VMailMessage|\n",
      "+------------+\n",
      "|          25|\n",
      "|          26|\n",
      "|           0|\n",
      "|           0|\n",
      "|           0|\n",
      "|           0|\n",
      "|          24|\n",
      "|           0|\n",
      "|           0|\n",
      "|          37|\n",
      "+------------+\n",
      "only showing top 10 rows\n",
      "\n"
     ]
    }
   ],
   "source": [
    "#VMail.Message: Number of voicemail messages sent by the customer.\n",
    "df.select('VMailMessage').show(10)\n"
   ]
  },
  {
   "cell_type": "code",
   "execution_count": 10,
   "id": "2efb36e9",
   "metadata": {},
   "outputs": [
    {
     "name": "stdout",
     "output_type": "stream",
     "text": [
      "+-----------------+\n",
      "|sum(VMailMessage)|\n",
      "+-----------------+\n",
      "|            26994|\n",
      "+-----------------+\n",
      "\n",
      "+-----------------+\n",
      "|max(VMailMessage)|\n",
      "+-----------------+\n",
      "|               51|\n",
      "+-----------------+\n",
      "\n"
     ]
    }
   ],
   "source": [
    "#convert the column to int and calculte the totaal VMailMessage call in a row\n",
    "df.agg({'VMailMessage' : 'sum'}).show()\n",
    "df.agg({'VMailMessage': 'max'}).show()"
   ]
  },
  {
   "cell_type": "code",
   "execution_count": 65,
   "id": "236bfbfd",
   "metadata": {},
   "outputs": [
    {
     "name": "stdout",
     "output_type": "stream",
     "text": [
      "+-------+--------+\n",
      "|DayMins|DayCalls|\n",
      "+-------+--------+\n",
      "|  265.1|     110|\n",
      "|  161.6|     123|\n",
      "|  243.4|     114|\n",
      "|  299.4|      71|\n",
      "|  166.7|     113|\n",
      "|  223.4|      98|\n",
      "|  218.2|      88|\n",
      "|    157|      79|\n",
      "|  184.5|      97|\n",
      "|  258.6|      84|\n",
      "|  129.1|     137|\n",
      "|  187.7|     127|\n",
      "|  128.8|      96|\n",
      "|  156.6|      88|\n",
      "|  120.7|      70|\n",
      "|  332.9|      67|\n",
      "|  196.4|     139|\n",
      "|  190.7|     114|\n",
      "|  189.7|      66|\n",
      "|  224.4|      90|\n",
      "+-------+--------+\n",
      "only showing top 20 rows\n",
      "\n"
     ]
    }
   ],
   "source": [
    "#Day.Mins: Time spent on day calls.\n",
    "df.select(['DayMins', 'DayCalls']).show()"
   ]
  },
  {
   "cell_type": "code",
   "execution_count": 66,
   "id": "52d074b8",
   "metadata": {},
   "outputs": [
    {
     "name": "stdout",
     "output_type": "stream",
     "text": [
      "+-------+-------------+\n",
      "|DayMins|min(DayCalls)|\n",
      "+-------+-------------+\n",
      "|      0|            0|\n",
      "|    100|           98|\n",
      "|  100.1|           54|\n",
      "|  100.8|          112|\n",
      "|    101|           93|\n",
      "|  101.1|          119|\n",
      "|  101.2|          122|\n",
      "|  101.4|          145|\n",
      "|  101.7|          105|\n",
      "|  101.9|           79|\n",
      "|    102|          118|\n",
      "|  102.1|           75|\n",
      "|  102.3|          100|\n",
      "|  102.6|           89|\n",
      "|  102.7|           89|\n",
      "|  102.8|          119|\n",
      "|    103|          129|\n",
      "|  103.1|           70|\n",
      "|  103.2|          117|\n",
      "|  103.3|          103|\n",
      "+-------+-------------+\n",
      "only showing top 20 rows\n",
      "\n"
     ]
    }
   ],
   "source": [
    "df.groupby('DayMins').agg({'DayCalls' : 'min'}).show()"
   ]
  },
  {
   "cell_type": "code",
   "execution_count": 67,
   "id": "1981b8b7",
   "metadata": {},
   "outputs": [
    {
     "name": "stdout",
     "output_type": "stream",
     "text": [
      "+-------+--------+\n",
      "|EveMins|EveCalls|\n",
      "+-------+--------+\n",
      "|  197.4|      99|\n",
      "|  195.5|     103|\n",
      "|  121.2|     110|\n",
      "|   61.9|      88|\n",
      "|  148.3|     122|\n",
      "|  220.6|     101|\n",
      "|  348.5|     108|\n",
      "|  103.1|      94|\n",
      "|  351.6|      80|\n",
      "|    222|     111|\n",
      "|  228.5|      83|\n",
      "|  163.4|     148|\n",
      "|  104.9|      71|\n",
      "|  247.6|      75|\n",
      "|  307.2|      76|\n",
      "|  317.8|      97|\n",
      "|  280.9|      90|\n",
      "|  218.2|     111|\n",
      "|  212.8|      65|\n",
      "|  159.5|      88|\n",
      "+-------+--------+\n",
      "only showing top 20 rows\n",
      "\n"
     ]
    }
   ],
   "source": [
    "#Eve.Mins: Time spent on evening calls.\n",
    "df.select('EveMins', 'EveCalls').show()"
   ]
  },
  {
   "cell_type": "markdown",
   "id": "322658d2",
   "metadata": {},
   "source": [
    "# Eve.Mins: Time spent on evening calls.min, avg, max and sum"
   ]
  },
  {
   "cell_type": "code",
   "execution_count": 9,
   "id": "6c1db9c5",
   "metadata": {},
   "outputs": [
    {
     "name": "stderr",
     "output_type": "stream",
     "text": [
      "\r",
      "[Stage 9:>                                                          (0 + 1) / 1]\r"
     ]
    },
    {
     "name": "stdout",
     "output_type": "stream",
     "text": [
      "+-------+-------------+-------------+-------------+-------------+\n",
      "|EveMins|sum(EveCalls)|min(EveCalls)|avg(EveCalls)|max(EveCalls)|\n",
      "+-------+-------------+-------------+-------------+-------------+\n",
      "|0      |0.0          |0            |0.0          |0            |\n",
      "|101.3  |247.0        |111          |123.5        |136          |\n",
      "|101.5  |101.0        |101          |101.0        |101          |\n",
      "|102.2  |191.0        |111          |95.5         |80           |\n",
      "|102.4  |110.0        |110          |110.0        |110          |\n",
      "|102.6  |103.0        |103          |103.0        |103          |\n",
      "|102.8  |170.0        |114          |85.0         |56           |\n",
      "|103    |80.0         |80           |80.0         |80           |\n",
      "|103.1  |94.0         |94           |94.0         |94           |\n",
      "|103.2  |138.0        |138          |138.0        |138          |\n",
      "|103.3  |99.0         |99           |99.0         |99           |\n",
      "|103.4  |115.0        |115          |115.0        |115          |\n",
      "|103.6  |116.0        |116          |116.0        |116          |\n",
      "|103.8  |95.0         |95           |95.0         |95           |\n",
      "|104.9  |71.0         |71           |71.0         |71           |\n",
      "|105.5  |118.0        |118          |118.0        |118          |\n",
      "|105.6  |119.0        |119          |119.0        |119          |\n",
      "|105.7  |67.0         |67           |67.0         |67           |\n",
      "|105.8  |98.0         |98           |98.0         |98           |\n",
      "|106.1  |80.0         |80           |80.0         |80           |\n",
      "+-------+-------------+-------------+-------------+-------------+\n",
      "only showing top 20 rows\n",
      "\n"
     ]
    },
    {
     "name": "stderr",
     "output_type": "stream",
     "text": [
      "\r",
      "                                                                                \r"
     ]
    }
   ],
   "source": [
    "from pyspark.sql.functions import sum,avg,max, min, rank, col\n",
    "from pyspark.sql.window import Window\n",
    "\n",
    "df.groupby('EveMins') \\\n",
    "    .agg(sum('EveCalls'), \n",
    "         min('EveCalls'), \n",
    "         avg('EveCalls'), \n",
    "         max('EveCalls') \\\n",
    "    )\\\n",
    "    .show(truncate=False)"
   ]
  },
  {
   "cell_type": "code",
   "execution_count": 69,
   "id": "cc6e3916",
   "metadata": {},
   "outputs": [
    {
     "name": "stdout",
     "output_type": "stream",
     "text": [
      "+---------+----------+\n",
      "|NightMins|NightCalls|\n",
      "+---------+----------+\n",
      "|    244.7|        91|\n",
      "|    254.4|       103|\n",
      "|    162.6|       104|\n",
      "|    196.9|        89|\n",
      "|    186.9|       121|\n",
      "|    203.9|       118|\n",
      "|    212.6|       118|\n",
      "|    211.8|        96|\n",
      "|    215.8|        90|\n",
      "|    326.4|        97|\n",
      "|    208.8|       111|\n",
      "|      196|        94|\n",
      "|    141.1|       128|\n",
      "|    192.3|       115|\n",
      "|      203|        99|\n",
      "|    160.6|       128|\n",
      "|     89.3|        75|\n",
      "|    129.6|       121|\n",
      "|    165.7|       108|\n",
      "|    192.8|        74|\n",
      "+---------+----------+\n",
      "only showing top 20 rows\n",
      "\n"
     ]
    },
    {
     "name": "stderr",
     "output_type": "stream",
     "text": [
      "\r",
      "[Stage 68:>                                                         (0 + 1) / 1]\r"
     ]
    },
    {
     "name": "stdout",
     "output_type": "stream",
     "text": [
      "+---------+---------------+---------------+---------------+\n",
      "|NightMins|sum(NightCalls)|min(NightCalls)|avg(NightCalls)|\n",
      "+---------+---------------+---------------+---------------+\n",
      "|    100.3|           61.0|             61|           61.0|\n",
      "|    100.9|          131.0|            131|          131.0|\n",
      "|    101.2|          103.0|            103|          103.0|\n",
      "|    101.7|          189.0|            107|           94.5|\n",
      "|    101.8|           94.0|             94|           94.0|\n",
      "+---------+---------------+---------------+---------------+\n",
      "only showing top 5 rows\n",
      "\n"
     ]
    },
    {
     "name": "stderr",
     "output_type": "stream",
     "text": [
      "\r",
      "                                                                                \r"
     ]
    }
   ],
   "source": [
    "#Night.Mins: Time spent on night calls.\n",
    "df.select('NightMins', 'NightCalls').show()\n",
    "df.groupby('NightMins') \\\n",
    "  .agg(sum('NightCalls'),\n",
    "      min('NightCalls'),\n",
    "      avg('NightCalls'),\n",
    "      )\\\n",
    ".show(5)"
   ]
  },
  {
   "cell_type": "code",
   "execution_count": 70,
   "id": "d4e1930d",
   "metadata": {},
   "outputs": [
    {
     "name": "stdout",
     "output_type": "stream",
     "text": [
      "+---------------+\n",
      "|sum(NightCalls)|\n",
      "+---------------+\n",
      "|       333659.0|\n",
      "+---------------+\n",
      "\n",
      "+--------------+\n",
      "|max(NightMins)|\n",
      "+--------------+\n",
      "|          99.3|\n",
      "+--------------+\n",
      "\n"
     ]
    },
    {
     "data": {
      "text/plain": [
       "(None, None)"
      ]
     },
     "execution_count": 70,
     "metadata": {},
     "output_type": "execute_result"
    }
   ],
   "source": [
    "df.agg({'NightCalls' : 'sum'}).show(), df.agg({'NightMins' : 'max'}).show()"
   ]
  },
  {
   "cell_type": "code",
   "execution_count": 71,
   "id": "a0fa8fbb",
   "metadata": {},
   "outputs": [
    {
     "name": "stdout",
     "output_type": "stream",
     "text": [
      "+--------+---------+\n",
      "|IntlMins|IntlCalls|\n",
      "+--------+---------+\n",
      "|      10|        3|\n",
      "|    13.7|        3|\n",
      "|    12.2|        5|\n",
      "|     6.6|        7|\n",
      "|    10.1|        3|\n",
      "|     6.3|        6|\n",
      "|     7.5|        7|\n",
      "|     7.1|        6|\n",
      "|     8.7|        4|\n",
      "|    11.2|        5|\n",
      "|    12.7|        6|\n",
      "|     9.1|        5|\n",
      "|    11.2|        2|\n",
      "|    12.3|        5|\n",
      "|    13.1|        6|\n",
      "|     5.4|        9|\n",
      "|    13.8|        4|\n",
      "|     8.1|        3|\n",
      "|      10|        5|\n",
      "|      13|        2|\n",
      "+--------+---------+\n",
      "only showing top 20 rows\n",
      "\n"
     ]
    },
    {
     "data": {
      "text/plain": [
       "(None, [Row(sum(IntlMins)=34120.89999999999)])"
      ]
     },
     "execution_count": 71,
     "metadata": {},
     "output_type": "execute_result"
    }
   ],
   "source": [
    "#Intl. Mins: Time spent on international calls.\n",
    "df.select('IntlMins', 'IntlCalls').show(), df.agg({'IntlMins': 'sum'}).collect()\n"
   ]
  },
  {
   "cell_type": "code",
   "execution_count": 72,
   "id": "48059d28",
   "metadata": {},
   "outputs": [
    {
     "name": "stdout",
     "output_type": "stream",
     "text": [
      "+--------+-------------+\n",
      "|DayCalls|CustServCalls|\n",
      "+--------+-------------+\n",
      "|     110|            1|\n",
      "|     123|            1|\n",
      "|     114|            0|\n",
      "|      71|            2|\n",
      "|     113|            3|\n",
      "|      98|            0|\n",
      "|      88|            3|\n",
      "|      79|            0|\n",
      "|      97|            1|\n",
      "|      84|            0|\n",
      "|     137|            4|\n",
      "|     127|            0|\n",
      "|      96|            1|\n",
      "|      88|            3|\n",
      "|      70|            4|\n",
      "|      67|            4|\n",
      "|     139|            1|\n",
      "|     114|            3|\n",
      "|      66|            1|\n",
      "|      90|            1|\n",
      "+--------+-------------+\n",
      "only showing top 20 rows\n",
      "\n",
      "+-------------+-------------+------------------+-------------+-------------+\n",
      "|CustServCalls|sum(DayCalls)|avg(DayCalls)     |min(DayCalls)|max(DayCalls)|\n",
      "+-------------+-------------+------------------+-------------+-------------+\n",
      "|0            |70327.0      |100.89956958393114|100          |99           |\n",
      "|1            |119343.0     |101.05249788314987|0            |99           |\n",
      "|2            |75342.0      |99.26482213438736 |100          |99           |\n",
      "|3            |42864.0      |99.91608391608392 |100          |99           |\n",
      "|4            |16895.0      |101.77710843373494|0            |99           |\n",
      "|5            |6568.0       |99.51515151515152 |100          |99           |\n",
      "|6            |2142.0       |97.36363636363636 |105          |94           |\n",
      "|7            |793.0        |88.11111111111111 |107          |90           |\n",
      "|8            |241.0        |120.5             |116          |125          |\n",
      "|9            |237.0        |118.5             |117          |120          |\n",
      "+-------------+-------------+------------------+-------------+-------------+\n",
      "\n"
     ]
    }
   ],
   "source": [
    "#Day.Calls: Number of day calls by customers.\n",
    "df.select('DayCalls', 'CustServCalls').show()\n",
    "df.groupby('CustServCalls') \\\n",
    "    .agg(sum('DayCalls'),\n",
    "        avg('DayCalls'),\n",
    "        min('DayCalls'),\n",
    "        max('DayCalls'),\n",
    "    \n",
    "    ) \\\n",
    "    .show(truncate=False)"
   ]
  },
  {
   "cell_type": "code",
   "execution_count": 73,
   "id": "2defe222",
   "metadata": {},
   "outputs": [
    {
     "name": "stdout",
     "output_type": "stream",
     "text": [
      "+--------+-------------+\n",
      "|EveCalls|CustServCalls|\n",
      "+--------+-------------+\n",
      "|      99|            1|\n",
      "|     103|            1|\n",
      "|     110|            0|\n",
      "|      88|            2|\n",
      "|     122|            3|\n",
      "|     101|            0|\n",
      "|     108|            3|\n",
      "|      94|            0|\n",
      "|      80|            1|\n",
      "|     111|            0|\n",
      "|      83|            4|\n",
      "|     148|            0|\n",
      "|      71|            1|\n",
      "|      75|            3|\n",
      "|      76|            4|\n",
      "|      97|            4|\n",
      "|      90|            1|\n",
      "|     111|            3|\n",
      "|      65|            1|\n",
      "|      88|            1|\n",
      "+--------+-------------+\n",
      "only showing top 20 rows\n",
      "\n",
      "+--------+-------------+-------------+\n",
      "|EveCalls|sum(EveCalls)|avg(EveCalls)|\n",
      "+--------+-------------+-------------+\n",
      "|125     |4375.0       |125.0        |\n",
      "|51      |255.0        |51.0         |\n",
      "|124     |2108.0       |124.0        |\n",
      "|54      |270.0        |54.0         |\n",
      "|155     |465.0        |155.0        |\n",
      "|132     |1452.0       |132.0        |\n",
      "|154     |308.0        |154.0        |\n",
      "|101     |6868.0       |101.0        |\n",
      "|138     |1794.0       |138.0        |\n",
      "|69      |1242.0       |69.0         |\n",
      "|112     |5376.0       |112.0        |\n",
      "|42      |42.0         |42.0         |\n",
      "|87      |5307.0       |87.0         |\n",
      "|73      |1679.0       |73.0         |\n",
      "|64      |960.0        |64.0         |\n",
      "|113     |6554.0       |113.0        |\n",
      "|133     |2261.0       |133.0        |\n",
      "|59      |472.0        |59.0         |\n",
      "|139     |695.0        |139.0        |\n",
      "|146     |730.0        |146.0        |\n",
      "+--------+-------------+-------------+\n",
      "only showing top 20 rows\n",
      "\n"
     ]
    }
   ],
   "source": [
    "#Eve.Calls: Number of evening calls by customers.\n",
    "df.select('EveCalls', 'CustServCalls').show()\n",
    "df.groupby('EveCalls').agg(sum('EveCalls'),\n",
    "                          avg('EveCalls'))\\\n",
    "                        .show(truncate=False)\n"
   ]
  },
  {
   "cell_type": "code",
   "execution_count": 74,
   "id": "7e7fcbb6",
   "metadata": {
    "scrolled": true
   },
   "outputs": [
    {
     "name": "stdout",
     "output_type": "stream",
     "text": [
      "+---------+\n",
      "|IntlCalls|\n",
      "+---------+\n",
      "|        3|\n",
      "|        3|\n",
      "|        5|\n",
      "|        7|\n",
      "|        3|\n",
      "|        6|\n",
      "|        7|\n",
      "|        6|\n",
      "|        4|\n",
      "|        5|\n",
      "|        6|\n",
      "|        5|\n",
      "|        2|\n",
      "|        5|\n",
      "|        6|\n",
      "|        9|\n",
      "|        4|\n",
      "|        3|\n",
      "|        5|\n",
      "|        2|\n",
      "+---------+\n",
      "only showing top 20 rows\n",
      "\n",
      "+--------------+\n",
      "|sum(IntlCalls)|\n",
      "+--------------+\n",
      "|       14930.0|\n",
      "+--------------+\n",
      "\n"
     ]
    }
   ],
   "source": [
    "#Intl.Calls: Number of international calls.\n",
    "\n",
    "df.select('IntlCalls').show()\n",
    "df.agg({'IntlCalls': 'sum'}).show()"
   ]
  },
  {
   "cell_type": "code",
   "execution_count": 75,
   "id": "58d96f40",
   "metadata": {},
   "outputs": [
    {
     "name": "stdout",
     "output_type": "stream",
     "text": [
      "+----------+-------------+\n",
      "|NightCalls|CustServCalls|\n",
      "+----------+-------------+\n",
      "|        91|            1|\n",
      "|       103|            1|\n",
      "|       104|            0|\n",
      "|        89|            2|\n",
      "|       121|            3|\n",
      "|       118|            0|\n",
      "|       118|            3|\n",
      "|        96|            0|\n",
      "|        90|            1|\n",
      "|        97|            0|\n",
      "+----------+-------------+\n",
      "only showing top 10 rows\n",
      "\n",
      "+---------------+\n",
      "|sum(NightCalls)|\n",
      "+---------------+\n",
      "|333659.0       |\n",
      "+---------------+\n",
      "\n"
     ]
    }
   ],
   "source": [
    "#Night.Calls: Number of night calls by the customer.\n",
    "df.select('NightCalls', 'CustServCalls').show(10)\n",
    "df.agg({'NightCalls' : 'sum'}).show(truncate=False)"
   ]
  },
  {
   "cell_type": "code",
   "execution_count": 76,
   "id": "f7add8c4",
   "metadata": {},
   "outputs": [
    {
     "name": "stdout",
     "output_type": "stream",
     "text": [
      "+--------+---------+\n",
      "|DayCalls|DayCharge|\n",
      "+--------+---------+\n",
      "|     110|    45.07|\n",
      "|     123|    27.47|\n",
      "|     114|    41.38|\n",
      "|      71|     50.9|\n",
      "|     113|    28.34|\n",
      "|      98|    37.98|\n",
      "|      88|    37.09|\n",
      "|      79|    26.69|\n",
      "|      97|    31.37|\n",
      "|      84|    43.96|\n",
      "|     137|    21.95|\n",
      "|     127|    31.91|\n",
      "|      96|     21.9|\n",
      "|      88|    26.62|\n",
      "|      70|    20.52|\n",
      "|      67|    56.59|\n",
      "|     139|    33.39|\n",
      "|     114|    32.42|\n",
      "|      66|    32.25|\n",
      "|      90|    38.15|\n",
      "+--------+---------+\n",
      "only showing top 20 rows\n",
      "\n",
      "+---------+-------------+-------------+-------------+\n",
      "|DayCharge|min(DayCalls)|avg(DayCalls)|sum(DayCalls)|\n",
      "+---------+-------------+-------------+-------------+\n",
      "|        0|            0|          0.0|          0.0|\n",
      "|     0.44|          113|        113.0|        113.0|\n",
      "|     1.33|           86|         86.0|         86.0|\n",
      "|     1.34|          100|        100.0|        100.0|\n",
      "|       10|          104|        104.0|        104.0|\n",
      "+---------+-------------+-------------+-------------+\n",
      "only showing top 5 rows\n",
      "\n"
     ]
    }
   ],
   "source": [
    "#Day.Charge: Charges of Day Calls.\n",
    "df.select('DayCalls', 'DayCharge').show()\n",
    "df.groupby('DayCharge') \\\n",
    "    .agg(min('DayCalls'),\n",
    "         avg('DayCalls'),\n",
    "         sum('DayCalls')\n",
    "        )\\\n",
    "    .show(5)"
   ]
  },
  {
   "cell_type": "markdown",
   "id": "785b5782",
   "metadata": {},
   "source": [
    "# Checking if there is a null value"
   ]
  },
  {
   "cell_type": "code",
   "execution_count": 11,
   "id": "890c1420",
   "metadata": {},
   "outputs": [
    {
     "name": "stdout",
     "output_type": "stream",
     "text": [
      "+-------------+------------+-------+-------+---------+--------+-------------+-----+--------+---------+--------+---------+--------+---------+----------+-----------+---------+----------+-----+--------+-----+\n",
      "|AccountLength|VMailMessage|DayMins|EveMins|NightMins|IntlMins|CustServCalls|Churn|IntlPlan|VMailPlan|DayCalls|DayCharge|EveCalls|EveCharge|NightCalls|NightCharge|IntlCalls|IntlCharge|State|AreaCode|Phone|\n",
      "+-------------+------------+-------+-------+---------+--------+-------------+-----+--------+---------+--------+---------+--------+---------+----------+-----------+---------+----------+-----+--------+-----+\n",
      "|            0|           0|      0|      0|        0|       0|            0|    0|       0|        0|       0|        0|       0|        0|         0|          0|        0|         0|    0|       0|    0|\n",
      "+-------------+------------+-------+-------+---------+--------+-------------+-----+--------+---------+--------+---------+--------+---------+----------+-----------+---------+----------+-----+--------+-----+\n",
      "\n"
     ]
    }
   ],
   "source": [
    "from pyspark.sql.functions import *\n",
    "col_null_cnt_df =  df.select([count(when(col(c).isNull(),c)).alias(c) for c in df.columns])\n",
    "\n",
    "col_null_cnt_df.show()"
   ]
  },
  {
   "cell_type": "code",
   "execution_count": 78,
   "id": "3a6d736c",
   "metadata": {},
   "outputs": [
    {
     "name": "stdout",
     "output_type": "stream",
     "text": [
      "+----------+-----------+\n",
      "|NightCalls|NightCharge|\n",
      "+----------+-----------+\n",
      "|        91|      11.01|\n",
      "|       103|      11.45|\n",
      "|       104|       7.32|\n",
      "|        89|       8.86|\n",
      "|       121|       8.41|\n",
      "|       118|       9.18|\n",
      "|       118|       9.57|\n",
      "|        96|       9.53|\n",
      "|        90|       9.71|\n",
      "|        97|      14.69|\n",
      "|       111|        9.4|\n",
      "|        94|       8.82|\n",
      "|       128|       6.35|\n",
      "|       115|       8.65|\n",
      "|        99|       9.14|\n",
      "|       128|       7.23|\n",
      "|        75|       4.02|\n",
      "|       121|       5.83|\n",
      "|       108|       7.46|\n",
      "|        74|       8.68|\n",
      "+----------+-----------+\n",
      "only showing top 20 rows\n",
      "\n",
      "+----------+------------------+\n",
      "|NightCalls|  sum(NightCharge)|\n",
      "+----------+------------------+\n",
      "|       125|            271.15|\n",
      "|       124|            310.73|\n",
      "|        51|19.560000000000002|\n",
      "|        54|             14.65|\n",
      "|       155|             16.85|\n",
      "+----------+------------------+\n",
      "only showing top 5 rows\n",
      "\n"
     ]
    }
   ],
   "source": [
    "#Night.Charge: Charges of Night Calls.\n",
    "df.select('NightCalls', 'NightCharge').show()\n",
    "df.groupby('NightCalls').agg({'NightCharge': 'sum'}).show(5) \n",
    "     "
   ]
  },
  {
   "cell_type": "markdown",
   "id": "69ac64e7",
   "metadata": {},
   "source": [
    "# SQL Command with Datasets"
   ]
  },
  {
   "cell_type": "code",
   "execution_count": 3,
   "id": "d8d914b2",
   "metadata": {},
   "outputs": [],
   "source": [
    "df.createOrReplaceTempView('Telcom')"
   ]
  },
  {
   "cell_type": "code",
   "execution_count": 4,
   "id": "a4c9de3d",
   "metadata": {},
   "outputs": [],
   "source": [
    "spark_df = \"\"\"select * from Telcom\"\"\""
   ]
  },
  {
   "cell_type": "code",
   "execution_count": 5,
   "id": "104834b0",
   "metadata": {},
   "outputs": [
    {
     "name": "stderr",
     "output_type": "stream",
     "text": [
      "\r",
      "[Stage 2:>                                                          (0 + 1) / 1]\r",
      "\r",
      "                                                                                \r"
     ]
    },
    {
     "name": "stdout",
     "output_type": "stream",
     "text": [
      "+-------------+------------+-------+-------+---------+--------+-------------+-----+--------+---------+--------+---------+--------+---------+----------+-----------+---------+----------+-----+--------+--------+\n",
      "|AccountLength|VMailMessage|DayMins|EveMins|NightMins|IntlMins|CustServCalls|Churn|IntlPlan|VMailPlan|DayCalls|DayCharge|EveCalls|EveCharge|NightCalls|NightCharge|IntlCalls|IntlCharge|State|AreaCode|   Phone|\n",
      "+-------------+------------+-------+-------+---------+--------+-------------+-----+--------+---------+--------+---------+--------+---------+----------+-----------+---------+----------+-----+--------+--------+\n",
      "|          128|          25|  265.1|  197.4|    244.7|    10.0|            1|    0|       0|        1|     110|    45.07|      99|    16.78|        91|      11.01|        3|       2.7|   KS|     415|382-4657|\n",
      "|          107|          26|  161.6|  195.5|    254.4|    13.7|            1|    0|       0|        1|     123|    27.47|     103|    16.62|       103|      11.45|        3|       3.7|   OH|     415|371-7191|\n",
      "|          137|           0|  243.4|  121.2|    162.6|    12.2|            0|    0|       0|        0|     114|    41.38|     110|     10.3|       104|       7.32|        5|      3.29|   NJ|     415|358-1921|\n",
      "|           84|           0|  299.4|   61.9|    196.9|     6.6|            2|    0|       1|        0|      71|     50.9|      88|     5.26|        89|       8.86|        7|      1.78|   OH|     408|375-9999|\n",
      "|           75|           0|  166.7|  148.3|    186.9|    10.1|            3|    0|       1|        0|     113|    28.34|     122|    12.61|       121|       8.41|        3|      2.73|   OK|     415|330-6626|\n",
      "|          118|           0|  223.4|  220.6|    203.9|     6.3|            0|    0|       1|        0|      98|    37.98|     101|    18.75|       118|       9.18|        6|       1.7|   AL|     510|391-8027|\n",
      "|          121|          24|  218.2|  348.5|    212.6|     7.5|            3|    0|       0|        1|      88|    37.09|     108|    29.62|       118|       9.57|        7|      2.03|   MA|     510|355-9993|\n",
      "|          147|           0|  157.0|  103.1|    211.8|     7.1|            0|    0|       1|        0|      79|    26.69|      94|     8.76|        96|       9.53|        6|      1.92|   MO|     415|329-9001|\n",
      "|          117|           0|  184.5|  351.6|    215.8|     8.7|            1|    0|       0|        0|      97|    31.37|      80|    29.89|        90|       9.71|        4|      2.35|   LA|     408|335-4719|\n",
      "|          141|          37|  258.6|  222.0|    326.4|    11.2|            0|    0|       1|        1|      84|    43.96|     111|    18.87|        97|      14.69|        5|      3.02|   WV|     415|330-8173|\n",
      "|           65|           0|  129.1|  228.5|    208.8|    12.7|            4|    1|       0|        0|     137|    21.95|      83|    19.42|       111|        9.4|        6|      3.43|   IN|     415|329-6603|\n",
      "|           74|           0|  187.7|  163.4|    196.0|     9.1|            0|    0|       0|        0|     127|    31.91|     148|    13.89|        94|       8.82|        5|      2.46|   RI|     415|344-9403|\n",
      "|          168|           0|  128.8|  104.9|    141.1|    11.2|            1|    0|       0|        0|      96|     21.9|      71|     8.92|       128|       6.35|        2|      3.02|   IA|     408|363-1107|\n",
      "|           95|           0|  156.6|  247.6|    192.3|    12.3|            3|    0|       0|        0|      88|    26.62|      75|    21.05|       115|       8.65|        5|      3.32|   MT|     510|394-8006|\n",
      "|           62|           0|  120.7|  307.2|    203.0|    13.1|            4|    0|       0|        0|      70|    20.52|      76|    26.11|        99|       9.14|        6|      3.54|   IA|     415|366-9238|\n",
      "|          161|           0|  332.9|  317.8|    160.6|     5.4|            4|    1|       0|        0|      67|    56.59|      97|    27.01|       128|       7.23|        9|      1.46|   NY|     415|351-7269|\n",
      "|           85|          27|  196.4|  280.9|     89.3|    13.8|            1|    0|       0|        1|     139|    33.39|      90|    23.88|        75|       4.02|        4|      3.73|   ID|     408|350-8884|\n",
      "|           93|           0|  190.7|  218.2|    129.6|     8.1|            3|    0|       0|        0|     114|    32.42|     111|    18.55|       121|       5.83|        3|      2.19|   VT|     510|386-2923|\n",
      "|           76|          33|  189.7|  212.8|    165.7|    10.0|            1|    0|       0|        1|      66|    32.25|      65|    18.09|       108|       7.46|        5|       2.7|   VA|     510|356-2992|\n",
      "|           73|           0|  224.4|  159.5|    192.8|    13.0|            1|    0|       0|        0|      90|    38.15|      88|    13.56|        74|       8.68|        2|      3.51|   TX|     415|373-2782|\n",
      "+-------------+------------+-------+-------+---------+--------+-------------+-----+--------+---------+--------+---------+--------+---------+----------+-----------+---------+----------+-----+--------+--------+\n",
      "only showing top 20 rows\n",
      "\n"
     ]
    }
   ],
   "source": [
    "spark.sql(spark_df).show()"
   ]
  },
  {
   "cell_type": "code",
   "execution_count": 82,
   "id": "536fbb23",
   "metadata": {},
   "outputs": [
    {
     "name": "stdout",
     "output_type": "stream",
     "text": [
      "+-----------+----------+\n",
      "|NightCharge|NightCalls|\n",
      "+-----------+----------+\n",
      "|      11.01|        91|\n",
      "|      11.45|       103|\n",
      "|       7.32|       104|\n",
      "|       8.86|        89|\n",
      "|       8.41|       121|\n",
      "|       9.18|       118|\n",
      "|       9.57|       118|\n",
      "|       9.53|        96|\n",
      "|       9.71|        90|\n",
      "|      14.69|        97|\n",
      "|        9.4|       111|\n",
      "|       8.82|        94|\n",
      "|       6.35|       128|\n",
      "|       8.65|       115|\n",
      "|       9.14|        99|\n",
      "|       7.23|       128|\n",
      "|       4.02|        75|\n",
      "|       5.83|       121|\n",
      "|       7.46|       108|\n",
      "|       8.68|        74|\n",
      "+-----------+----------+\n",
      "only showing top 20 rows\n",
      "\n"
     ]
    }
   ],
   "source": [
    "sql_query = \"\"\"select NightCharge, \n",
    "               NightCalls from Telcom\"\"\"\n",
    "spark.sql(sql_query).show()"
   ]
  },
  {
   "cell_type": "markdown",
   "id": "26c7ea58",
   "metadata": {},
   "source": [
    "# Night.Charge: Charges of Night Calls."
   ]
  },
  {
   "cell_type": "code",
   "execution_count": 83,
   "id": "5fb67794",
   "metadata": {
    "scrolled": true
   },
   "outputs": [
    {
     "name": "stderr",
     "output_type": "stream",
     "text": [
      "\r",
      "[Stage 110:>                                                        (0 + 1) / 1]\r"
     ]
    },
    {
     "name": "stdout",
     "output_type": "stream",
     "text": [
      "+-----------+-----------+----------+----------------+---------------+------------------+-------------+\n",
      "|NightCharge|NightCharge|NightCalls|mean_nightcharge|mean_nightcalls|   sum_nightcharge|sum_nightcall|\n",
      "+-----------+-----------+----------+----------------+---------------+------------------+-------------+\n",
      "|       7.88|       7.88|         4|            7.88|           86.0|             31.52|        344.0|\n",
      "|       9.45|       9.45|         3|            9.45|           93.0|28.349999999999998|        279.0|\n",
      "|      10.49|      10.49|         3|           10.49|           96.0|             31.47|        288.0|\n",
      "|       4.86|       4.86|         2|            4.86|           82.0|              9.72|        164.0|\n",
      "|       9.71|       9.71|         2|            9.71|           82.0|             19.42|        164.0|\n",
      "|       9.71|       9.71|         2|            9.71|           90.0|             19.42|        180.0|\n",
      "|       8.15|       8.15|         2|            8.15|          101.0|              16.3|        202.0|\n",
      "|       8.73|       8.73|         2|            8.73|          100.0|             17.46|        200.0|\n",
      "|       10.8|       10.8|         2|            10.8|          112.0|              21.6|        224.0|\n",
      "|       9.66|       9.66|         2|            9.66|          107.0|             19.32|        214.0|\n",
      "|      12.84|      12.84|         2|           12.84|           83.0|             25.68|        166.0|\n",
      "|      10.35|      10.35|         2|           10.35|          117.0|              20.7|        234.0|\n",
      "|       6.39|       6.39|         2|            6.39|          103.0|             12.78|        206.0|\n",
      "|       9.18|       9.18|         2|            9.18|          118.0|             18.36|        236.0|\n",
      "|       6.59|       6.59|         2|            6.59|           85.0|             13.18|        170.0|\n",
      "|       9.29|       9.29|         2|            9.29|           80.0|             18.58|        160.0|\n",
      "|       8.47|       8.47|         2|            8.47|          109.0|             16.94|        218.0|\n",
      "|      11.17|      11.17|         2|           11.17|          110.0|             22.34|        220.0|\n",
      "|      10.37|      10.37|         2|           10.37|          109.0|             20.74|        218.0|\n",
      "|       9.14|       9.14|         2|            9.14|           99.0|             18.28|        198.0|\n",
      "+-----------+-----------+----------+----------------+---------------+------------------+-------------+\n",
      "only showing top 20 rows\n",
      "\n"
     ]
    },
    {
     "name": "stderr",
     "output_type": "stream",
     "text": [
      "\r",
      "                                                                                \r"
     ]
    }
   ],
   "source": [
    "sql_query = \"\"\"select NightCharge, \n",
    "               CASE NightCalls\n",
    "                   when NightCalls then NightCharge\n",
    "                   else 'calls'\n",
    "               End as NightCharge,\n",
    "               count(*) as NightCalls,\n",
    "               round(AVG(NightCharge),2) as mean_nightcharge,\n",
    "               round(AVG(NightCalls),2) as mean_nightcalls,\n",
    "               SUM(NightCharge) AS sum_nightcharge,\n",
    "               SUM(NightCalls) AS sum_nightcall\n",
    "               from Telcom\n",
    "               group by NightCharge, NightCalls\n",
    "               order by 3 desc\n",
    "               \n",
    "\"\"\"\n",
    "spark.sql(sql_query).show()\n"
   ]
  },
  {
   "cell_type": "code",
   "execution_count": 84,
   "id": "e26fdbfb",
   "metadata": {},
   "outputs": [
    {
     "name": "stderr",
     "output_type": "stream",
     "text": [
      "\r",
      "[Stage 113:>                                                        (0 + 1) / 1]\r"
     ]
    },
    {
     "name": "stdout",
     "output_type": "stream",
     "text": [
      "+---------+--------+---------+-------------+-------------+-------------+\n",
      "|DayCharge|Daycalls|DayCharge|min_daycharge|max_daycharge|sum_daycharge|\n",
      "+---------+--------+---------+-------------+-------------+-------------+\n",
      "|        0|       0|        2|            0|            0|          0.0|\n",
      "|     0.44|    0.44|        1|         0.44|         0.44|         0.44|\n",
      "|     1.33|    1.33|        1|         1.33|         1.33|         1.33|\n",
      "|     1.34|    1.34|        1|         1.34|         1.34|         1.34|\n",
      "|       10|      10|        1|           10|           10|         10.0|\n",
      "|    10.01|   10.01|        2|        10.01|        10.01|        20.02|\n",
      "|    10.12|   10.12|        1|        10.12|        10.12|        10.12|\n",
      "|     10.2|    10.2|        1|         10.2|         10.2|         10.2|\n",
      "|    10.27|   10.27|        1|        10.27|        10.27|        10.27|\n",
      "|     10.3|    10.3|        1|         10.3|         10.3|         10.3|\n",
      "|     10.4|    10.4|        1|         10.4|         10.4|         10.4|\n",
      "|    10.42|   10.42|        1|        10.42|        10.42|        10.42|\n",
      "|    10.47|   10.47|        1|        10.47|        10.47|        10.47|\n",
      "|    10.47|   10.47|        1|        10.47|        10.47|        10.47|\n",
      "|    10.52|   10.52|        1|        10.52|        10.52|        10.52|\n",
      "|    10.59|   10.59|        1|        10.59|        10.59|        10.59|\n",
      "|    10.61|   10.61|        1|        10.61|        10.61|        10.61|\n",
      "|    10.64|   10.64|        1|        10.64|        10.64|        10.64|\n",
      "|    10.68|   10.68|        1|        10.68|        10.68|        10.68|\n",
      "|    10.69|   10.69|        1|        10.69|        10.69|        10.69|\n",
      "+---------+--------+---------+-------------+-------------+-------------+\n",
      "only showing top 20 rows\n",
      "\n"
     ]
    },
    {
     "name": "stderr",
     "output_type": "stream",
     "text": [
      "\r",
      "                                                                                \r"
     ]
    }
   ],
   "source": [
    "#Day.Charge: Charges of Day Calls.\n",
    "sql_query = \"\"\"select DayCharge, \n",
    "               Case Daycalls\n",
    "                   when DayCalls then DayCharge\n",
    "                   else 'charge'\n",
    "               end as Daycalls,\n",
    "               count(*)DayCharge,\n",
    "               min(DayCharge) as min_daycharge,\n",
    "               max(DayCharge) as max_daycharge,\n",
    "               sum(DayCharge) as sum_daycharge\n",
    "               from Telcom\n",
    "               group by Daycalls, DayCharge\n",
    "               order by DayCharge\n",
    "               \n",
    "           \"\"\"\n",
    "\n",
    "spark.sql(sql_query).show()\n"
   ]
  },
  {
   "cell_type": "code",
   "execution_count": 85,
   "id": "0cb0066f",
   "metadata": {},
   "outputs": [
    {
     "name": "stderr",
     "output_type": "stream",
     "text": [
      "\r",
      "[Stage 116:>                                                        (0 + 1) / 1]\r"
     ]
    },
    {
     "name": "stdout",
     "output_type": "stream",
     "text": [
      "+---------------+---------+\n",
      "|min(IntlCharge)|Intlcalls|\n",
      "+---------------+---------+\n",
      "|              0|        0|\n",
      "|            0.3|        2|\n",
      "|           0.35|        6|\n",
      "|           0.54|        2|\n",
      "|           0.54|        7|\n",
      "|           0.57|        5|\n",
      "|           0.57|        4|\n",
      "|           0.59|        4|\n",
      "|           0.65|        3|\n",
      "|           0.68|        5|\n",
      "+---------------+---------+\n",
      "only showing top 10 rows\n",
      "\n"
     ]
    },
    {
     "name": "stderr",
     "output_type": "stream",
     "text": [
      "\r",
      "                                                                                \r"
     ]
    }
   ],
   "source": [
    "#IntlCharge: Charges of international calls..\n",
    "\n",
    "sql_query = \"\"\"select min(IntlCharge),\n",
    "               Intlcalls\n",
    "               from Telcom\n",
    "               group by IntlCharge, IntlCalls \n",
    "               order by IntlCharge \n",
    "            \"\"\"\n",
    "\n",
    "spark.sql(sql_query).show(10)\n"
   ]
  },
  {
   "cell_type": "code",
   "execution_count": 86,
   "id": "002f3d90",
   "metadata": {},
   "outputs": [
    {
     "name": "stdout",
     "output_type": "stream",
     "text": [
      "+---------+------------+\n",
      "|VMailPlan|VMailMessage|\n",
      "+---------+------------+\n",
      "|        1|          25|\n",
      "|        1|          26|\n",
      "|        0|           0|\n",
      "|        0|           0|\n",
      "|        0|           0|\n",
      "+---------+------------+\n",
      "only showing top 5 rows\n",
      "\n"
     ]
    }
   ],
   "source": [
    "sql_query = \"\"\"select VMailPlan, VMailMessage from Telcom    \n",
    "            \"\"\"\n",
    "spark.sql(sql_query).show(5)"
   ]
  },
  {
   "cell_type": "markdown",
   "id": "da31ec12",
   "metadata": {},
   "source": [
    "# VMail.Plan: Voicemail plan taken by the customer or not.#UDF USER DEFINE FUNCTION"
   ]
  },
  {
   "cell_type": "code",
   "execution_count": 87,
   "id": "ae88d39a",
   "metadata": {},
   "outputs": [
    {
     "name": "stderr",
     "output_type": "stream",
     "text": [
      "\r",
      "[Stage 120:>                                                        (0 + 1) / 1]\r"
     ]
    },
    {
     "name": "stdout",
     "output_type": "stream",
     "text": [
      "+----------+---------+\n",
      "|voice_mail|Voicemail|\n",
      "+----------+---------+\n",
      "+----------+---------+\n",
      "\n"
     ]
    }
   ],
   "source": [
    "def vplantaken(item):\n",
    "    \n",
    "    return(x if x == 1 else 0 for x in item)\n",
    "\n",
    "spark.udf.register('VoicemailPlan', vplantaken, StringType())\n",
    "        \n",
    "#UDF USER DEFINE FUNCTION\n",
    "sql_query = \"\"\"select \n",
    "               VoicemailPlan(VMailPlan) as voice_mail,\n",
    "               count(*) as Voicemail\n",
    "               from Telcom\n",
    "               where VMailPlan = 1 and VMailPlan = 0\n",
    "               group by voice_mail\n",
    "               order by voice_mail\n",
    "               \n",
    "            \"\"\"\n",
    "\n",
    "spark.sql(sql_query).show(5)"
   ]
  },
  {
   "cell_type": "code",
   "execution_count": 88,
   "id": "d633edcd",
   "metadata": {},
   "outputs": [
    {
     "name": "stdout",
     "output_type": "stream",
     "text": [
      "+-----+--------+\n",
      "|State|AreaCode|\n",
      "+-----+--------+\n",
      "|   IL|     510|\n",
      "|   TX|     510|\n",
      "|   WI|     510|\n",
      "|   IA|     510|\n",
      "|   WY|     510|\n",
      "+-----+--------+\n",
      "\n"
     ]
    },
    {
     "name": "stderr",
     "output_type": "stream",
     "text": [
      "\r",
      "                                                                                \r"
     ]
    }
   ],
   "source": [
    "#State: State in Area of study which have the heighest subscribers.\n",
    "sql_query = \"\"\"select distinct(State), AreaCode\n",
    "               from Telcom\n",
    "               order by AreaCode desc limit 5\n",
    "               \n",
    "               \"\"\"\n",
    "\n",
    "spark.sql(sql_query).show()"
   ]
  },
  {
   "cell_type": "code",
   "execution_count": 89,
   "id": "f357f674",
   "metadata": {},
   "outputs": [
    {
     "name": "stdout",
     "output_type": "stream",
     "text": [
      "+--------+\n",
      "|   Phone|\n",
      "+--------+\n",
      "|382-4657|\n",
      "|371-7191|\n",
      "|358-1921|\n",
      "|375-9999|\n",
      "|330-6626|\n",
      "|391-8027|\n",
      "|355-9993|\n",
      "|329-9001|\n",
      "|335-4719|\n",
      "|330-8173|\n",
      "+--------+\n",
      "only showing top 10 rows\n",
      "\n"
     ]
    }
   ],
   "source": [
    "#Phone: Phone number of the customer.\n",
    "sql_query = \"\"\"select Phone\n",
    "               from Telcom\n",
    "               \n",
    "               \n",
    "               \"\"\"\n",
    "spark.sql(sql_query).show(10)"
   ]
  },
  {
   "cell_type": "code",
   "execution_count": 90,
   "id": "aa0fe70f",
   "metadata": {},
   "outputs": [
    {
     "name": "stdout",
     "output_type": "stream",
     "text": [
      "+--------+\n",
      "|AreaCode|\n",
      "+--------+\n",
      "|     415|\n",
      "|     415|\n",
      "|     415|\n",
      "|     408|\n",
      "|     415|\n",
      "|     510|\n",
      "|     510|\n",
      "|     415|\n",
      "|     408|\n",
      "|     415|\n",
      "+--------+\n",
      "only showing top 10 rows\n",
      "\n"
     ]
    }
   ],
   "source": [
    "#Area.Code: Area Code of the customer.\n",
    "\n",
    "sql_query = \"\"\"select AreaCode\n",
    "               from Telcom\n",
    "               \n",
    "               \n",
    "               \"\"\"\n",
    "spark.sql(sql_query).show(10)\n"
   ]
  },
  {
   "cell_type": "code",
   "execution_count": 91,
   "id": "0c3d2f03",
   "metadata": {},
   "outputs": [
    {
     "name": "stdout",
     "output_type": "stream",
     "text": [
      "+--------+\n",
      "|IntlPlan|\n",
      "+--------+\n",
      "|       1|\n",
      "|       1|\n",
      "|       1|\n",
      "|       1|\n",
      "|       1|\n",
      "|       1|\n",
      "|       1|\n",
      "|       1|\n",
      "|       1|\n",
      "|       1|\n",
      "+--------+\n",
      "only showing top 10 rows\n",
      "\n"
     ]
    }
   ],
   "source": [
    "\n",
    "#Int.l.Plan: Does the customer have an international plan or not.\n",
    "sql_query = \"\"\"select IntlPlan\n",
    "               from Telcom \n",
    "               WHERE IntlPlan = 1\n",
    "                   \n",
    "               \n",
    "               \"\"\"\n",
    "spark.sql(sql_query).show(10)\n"
   ]
  },
  {
   "cell_type": "code",
   "execution_count": 92,
   "id": "c6bc5ac9",
   "metadata": {},
   "outputs": [
    {
     "name": "stdout",
     "output_type": "stream",
     "text": [
      "+-------------+-----------+\n",
      "|CustServCalls|CustService|\n",
      "+-------------+-----------+\n",
      "|            8|          2|\n",
      "|            9|          2|\n",
      "|            7|          9|\n",
      "|            6|         22|\n",
      "|            5|         66|\n",
      "|            4|        166|\n",
      "|            3|        429|\n",
      "|            0|        697|\n",
      "|            2|        759|\n",
      "|            1|       1181|\n",
      "+-------------+-----------+\n",
      "\n"
     ]
    }
   ],
   "source": [
    "#CustServ.Calls: Number of customer service calls by the customer.\n",
    "sql_query = \"\"\"select CustServCalls, \n",
    "               count(1) as CustService \n",
    "               from Telcom\n",
    "               group by CustServCalls\n",
    "               order by CustService\n",
    "               \"\"\"\n",
    "\n",
    "spark.sql(sql_query).show(10)"
   ]
  },
  {
   "cell_type": "code",
   "execution_count": 17,
   "id": "ae3557a9",
   "metadata": {},
   "outputs": [
    {
     "name": "stderr",
     "output_type": "stream",
     "text": [
      "\r",
      "[Stage 21:>                                                         (0 + 1) / 1]\r"
     ]
    },
    {
     "name": "stdout",
     "output_type": "stream",
     "text": [
      "+-----+--------+\n",
      "|Churn|Churners|\n",
      "+-----+--------+\n",
      "|    1|     483|\n",
      "|    0|    2850|\n",
      "+-----+--------+\n",
      "\n"
     ]
    },
    {
     "name": "stderr",
     "output_type": "stream",
     "text": [
      "\r",
      "                                                                                \r"
     ]
    }
   ],
   "source": [
    "#Churn: Customers who churned the telecom service or who doesn’t(0=“Churner”, 1=“ Non-Churner”) 2850 churn the network\n",
    "\n",
    "sql_query = \"\"\"select Churn, count(*) as Churners\n",
    "               from Telcom\n",
    "               where Churn IN (1, 0)\n",
    "               GROUP BY Churn\n",
    "               order by Churners\n",
    "                \n",
    "               \n",
    "               \"\"\"\n",
    "\n",
    "spark.sql(sql_query).show()\n"
   ]
  },
  {
   "cell_type": "code",
   "execution_count": 94,
   "id": "34d7dd09",
   "metadata": {},
   "outputs": [
    {
     "name": "stdout",
     "output_type": "stream",
     "text": [
      "root\n",
      " |-- AccountLength: string (nullable = true)\n",
      " |-- VMailMessage: string (nullable = true)\n",
      " |-- DayMins: integer (nullable = true)\n",
      " |-- EveMins: string (nullable = true)\n",
      " |-- NightMins: string (nullable = true)\n",
      " |-- IntlMins: string (nullable = true)\n",
      " |-- CustServCalls: string (nullable = true)\n",
      " |-- Churn: integer (nullable = true)\n",
      " |-- IntlPlan: string (nullable = true)\n",
      " |-- VMailPlan: string (nullable = true)\n",
      " |-- DayCalls: string (nullable = true)\n",
      " |-- DayCharge: string (nullable = true)\n",
      " |-- EveCalls: string (nullable = true)\n",
      " |-- EveCharge: string (nullable = true)\n",
      " |-- NightCalls: string (nullable = true)\n",
      " |-- NightCharge: string (nullable = true)\n",
      " |-- IntlCalls: string (nullable = true)\n",
      " |-- IntlCharge: string (nullable = true)\n",
      " |-- State: string (nullable = true)\n",
      " |-- AreaCode: string (nullable = true)\n",
      " |-- Phone: string (nullable = true)\n",
      "\n"
     ]
    }
   ],
   "source": [
    "df_sel = df.withColumn('DayMins', col('DayMins').cast(IntegerType())) \\\n",
    "           .withColumn('Churn', col('Churn').cast(IntegerType()))\n",
    "df_sel.printSchema()"
   ]
  },
  {
   "cell_type": "code",
   "execution_count": 95,
   "id": "33fe76e2",
   "metadata": {},
   "outputs": [
    {
     "name": "stdout",
     "output_type": "stream",
     "text": [
      "+-------+-----+\n",
      "|DayMins|Churn|\n",
      "+-------+-----+\n",
      "|  265.1|    0|\n",
      "|  161.6|    0|\n",
      "|  243.4|    0|\n",
      "|  299.4|    0|\n",
      "|  166.7|    0|\n",
      "|  223.4|    0|\n",
      "|  218.2|    0|\n",
      "|    157|    0|\n",
      "|  184.5|    0|\n",
      "|  258.6|    0|\n",
      "+-------+-----+\n",
      "only showing top 10 rows\n",
      "\n"
     ]
    }
   ],
   "source": [
    "df.select(['DayMins', 'Churn']).show(10)"
   ]
  },
  {
   "cell_type": "code",
   "execution_count": null,
   "id": "7689d350",
   "metadata": {},
   "outputs": [],
   "source": [
    "df = df.drop('State', 'Phone')\n",
    "df.printSchema()"
   ]
  },
  {
   "cell_type": "markdown",
   "id": "f70891b6",
   "metadata": {},
   "source": [
    "# LET USE RDD TO FIND EACH CORRELATION OF EACH COLUMN`"
   ]
  },
  {
   "cell_type": "code",
   "execution_count": 35,
   "id": "7685b98a",
   "metadata": {},
   "outputs": [
    {
     "name": "stderr",
     "output_type": "stream",
     "text": [
      "                                                                                \r"
     ]
    }
   ],
   "source": [
    "\n",
    "features = df.rdd.map(lambda row: row[0:])\n",
    "from pyspark.mllib.stat import Statistics\n",
    "corr_stat=Statistics.corr(features, method=\"pearson\")"
   ]
  },
  {
   "cell_type": "code",
   "execution_count": 36,
   "id": "c30b8981",
   "metadata": {},
   "outputs": [
    {
     "data": {
      "text/plain": [
       "array([[ 1.00000000e+00, -4.62782433e-03,  6.21602053e-03,\n",
       "        -6.75714199e-03, -8.95519186e-03,  9.51390234e-03,\n",
       "        -3.79593893e-03,  1.65407422e-02,  2.47346546e-02,\n",
       "         2.91840907e-03,  3.84698823e-02,  6.21413469e-03,\n",
       "         1.92599670e-02, -6.74530173e-03, -1.31762751e-02,\n",
       "        -8.95953455e-03,  2.06614284e-02,  9.54567480e-03,\n",
       "        -1.24634967e-02],\n",
       "       [-4.62782433e-03,  1.00000000e+00,  7.78274099e-04,\n",
       "         1.75620343e-02,  7.68113594e-03,  2.85619588e-03,\n",
       "        -1.32625831e-02, -8.97279698e-02,  8.74548591e-03,\n",
       "         9.56926642e-01, -9.54806766e-03,  7.75523459e-04,\n",
       "        -5.86435129e-03,  1.75777801e-02,  7.12306291e-03,\n",
       "         7.66329043e-03,  1.39573387e-02,  2.88365791e-03,\n",
       "        -1.99437008e-03],\n",
       "       [ 6.21602053e-03,  7.78274099e-04,  1.00000000e+00,\n",
       "         7.04251099e-03,  4.32336658e-03, -1.01545856e-02,\n",
       "        -1.34231864e-02,  2.05150829e-01,  4.93958241e-02,\n",
       "        -1.68406871e-03,  6.75041388e-03,  9.99999952e-01,\n",
       "         1.57689932e-02,  7.02903525e-03,  2.29724555e-02,\n",
       "         4.30035704e-03,  8.03335695e-03, -1.00919742e-02,\n",
       "        -8.26436617e-03],\n",
       "       [-6.75714199e-03,  1.75620343e-02,  7.04251099e-03,\n",
       "         1.00000000e+00, -1.25836779e-02, -1.10347144e-02,\n",
       "        -1.29845529e-02,  9.27957903e-02,  1.91000125e-02,\n",
       "         2.15450456e-02, -2.14514078e-02,  7.04960719e-03,\n",
       "        -1.14301082e-02,  9.99999776e-01,  7.58564307e-03,\n",
       "        -1.25928057e-02,  2.54129174e-03, -1.10666213e-02,\n",
       "         3.58039485e-03],\n",
       "       [-8.95519186e-03,  7.68113594e-03,  4.32336658e-03,\n",
       "        -1.25836779e-02,  1.00000000e+00, -1.52072973e-02,\n",
       "        -9.28761270e-03,  3.54928534e-02, -2.89047539e-02,\n",
       "         6.07865672e-03,  2.29378453e-02,  4.32387938e-03,\n",
       "        -2.09276800e-03, -1.25920204e-02,  1.12038563e-02,\n",
       "         9.99999215e-01, -1.23534324e-02, -1.51798491e-02,\n",
       "        -5.82465984e-03],\n",
       "       [ 9.51390234e-03,  2.85619588e-03, -1.01545856e-02,\n",
       "        -1.10347144e-02, -1.52072973e-02,  1.00000000e+00,\n",
       "        -9.63967959e-03,  6.82387756e-02,  4.58707429e-02,\n",
       "        -1.31787099e-03,  2.15647943e-02, -1.01568616e-02,\n",
       "         8.70288065e-03, -1.10425820e-02, -1.36049964e-02,\n",
       "        -1.52135258e-02,  3.23038841e-02,  9.99992742e-01,\n",
       "        -1.82881682e-02],\n",
       "       [-3.79593893e-03, -1.32625831e-02, -1.34231864e-02,\n",
       "        -1.29845529e-02, -9.28761270e-03, -9.63967959e-03,\n",
       "         1.00000000e+00,  2.08749999e-01, -2.45219562e-02,\n",
       "        -1.78239441e-02, -1.89419303e-02, -1.34269694e-02,\n",
       "         2.42257470e-03, -1.29874069e-02, -1.28019273e-02,\n",
       "        -9.27695358e-03, -1.75605992e-02, -9.67473235e-03,\n",
       "         2.75722257e-02],\n",
       "       [ 1.65407422e-02, -8.97279698e-02,  2.05150829e-01,\n",
       "         9.27957903e-02,  3.54928534e-02,  6.82387756e-02,\n",
       "         2.08749999e-01,  1.00000000e+00,  2.59851847e-01,\n",
       "        -1.02148141e-01,  1.84593116e-02,  2.05150743e-01,\n",
       "         9.23313191e-03,  9.27860394e-02,  6.14120301e-03,\n",
       "         3.54955562e-02, -5.28443358e-02,  6.82586315e-02,\n",
       "         6.17423316e-03],\n",
       "       [ 2.47346546e-02,  8.74548591e-03,  4.93958241e-02,\n",
       "         1.91000125e-02, -2.89047539e-02,  4.58707429e-02,\n",
       "        -2.45219562e-02,  2.59851847e-01,  1.00000000e+00,\n",
       "         6.00637065e-03,  3.75462588e-03,  4.93980611e-02,\n",
       "         6.11357703e-03,  1.91061524e-02,  1.24511861e-02,\n",
       "        -2.89127654e-02,  1.73663432e-02,  4.57801298e-02,\n",
       "         4.85505114e-02],\n",
       "       [ 2.91840907e-03,  9.56926642e-01, -1.68406871e-03,\n",
       "         2.15450456e-02,  6.07865672e-03, -1.31787099e-03,\n",
       "        -1.78239441e-02, -1.02148141e-01,  6.00637065e-03,\n",
       "         1.00000000e+00, -1.10859022e-02, -1.68562901e-03,\n",
       "        -6.44444368e-03,  2.15585006e-02,  1.55525275e-02,\n",
       "         6.06370857e-03,  7.61759475e-03, -1.27626692e-03,\n",
       "        -7.47095076e-04],\n",
       "       [ 3.84698823e-02, -9.54806766e-03,  6.75041388e-03,\n",
       "        -2.14514078e-02,  2.29378453e-02,  2.15647943e-02,\n",
       "        -1.89419303e-02,  1.84593116e-02,  3.75462588e-03,\n",
       "        -1.10859022e-02,  1.00000000e+00,  6.75296197e-03,\n",
       "         6.46211365e-03, -2.14492626e-02, -1.95569654e-02,\n",
       "         2.29266378e-02,  4.57426823e-03,  2.16660952e-02,\n",
       "        -9.64604398e-03],\n",
       "       [ 6.21413469e-03,  7.75523459e-04,  9.99999952e-01,\n",
       "         7.04960719e-03,  4.32387938e-03, -1.01568616e-02,\n",
       "        -1.34269694e-02,  2.05150743e-01,  4.93980611e-02,\n",
       "        -1.68562901e-03,  6.75296197e-03,  1.00000000e+00,\n",
       "         1.57692822e-02,  7.03613150e-03,  2.29724195e-02,\n",
       "         4.30086079e-03,  8.03157197e-03, -1.00942572e-02,\n",
       "        -8.26444108e-03],\n",
       "       [ 1.92599670e-02, -5.86435129e-03,  1.57689932e-02,\n",
       "        -1.14301082e-02, -2.09276800e-03,  8.70288065e-03,\n",
       "         2.42257470e-03,  9.23313191e-03,  6.11357703e-03,\n",
       "        -6.44444368e-03,  6.46211365e-03,  1.57692822e-02,\n",
       "         1.00000000e+00, -1.14228943e-02,  7.70970554e-03,\n",
       "        -2.05598431e-03,  1.74336921e-02,  8.67385764e-03,\n",
       "        -1.18862708e-02],\n",
       "       [-6.74530173e-03,  1.75777801e-02,  7.02903525e-03,\n",
       "         9.99999776e-01, -1.25920204e-02, -1.10425820e-02,\n",
       "        -1.29874069e-02,  9.27860394e-02,  1.91061524e-02,\n",
       "         2.15585006e-02, -2.14492626e-02,  7.03613150e-03,\n",
       "        -1.14228943e-02,  1.00000000e+00,  7.59584297e-03,\n",
       "        -1.26011421e-02,  2.54145802e-03, -1.10744989e-02,\n",
       "         3.60669022e-03],\n",
       "       [-1.31762751e-02,  7.12306291e-03,  2.29724555e-02,\n",
       "         7.58564307e-03,  1.12038563e-02, -1.36049964e-02,\n",
       "        -1.28019273e-02,  6.14120301e-03,  1.24511861e-02,\n",
       "         1.55525275e-02, -1.95569654e-02,  2.29724195e-02,\n",
       "         7.70970554e-03,  7.59584297e-03,  1.00000000e+00,\n",
       "         1.11878197e-02,  3.04579532e-04, -1.36301696e-02,\n",
       "         1.65223169e-02],\n",
       "       [-8.95953455e-03,  7.66329043e-03,  4.30035704e-03,\n",
       "        -1.25928057e-02,  9.99999215e-01, -1.52135258e-02,\n",
       "        -9.27695358e-03,  3.54955562e-02, -2.89127654e-02,\n",
       "         6.06370857e-03,  2.29266378e-02,  4.30086079e-03,\n",
       "        -2.05598431e-03, -1.26011421e-02,  1.11878197e-02,\n",
       "         1.00000000e+00, -1.23292150e-02, -1.51861386e-02,\n",
       "        -5.84537574e-03],\n",
       "       [ 2.06614284e-02,  1.39573387e-02,  8.03335695e-03,\n",
       "         2.54129174e-03, -1.23534324e-02,  3.23038841e-02,\n",
       "        -1.75605992e-02, -5.28443358e-02,  1.73663432e-02,\n",
       "         7.61759475e-03,  4.57426823e-03,  8.03157197e-03,\n",
       "         1.74336921e-02,  2.54145802e-03,  3.04579532e-04,\n",
       "        -1.23292150e-02,  1.00000000e+00,  3.23721453e-02,\n",
       "        -2.41785887e-02],\n",
       "       [ 9.54567480e-03,  2.88365791e-03, -1.00919742e-02,\n",
       "        -1.10666213e-02, -1.51798491e-02,  9.99992742e-01,\n",
       "        -9.67473235e-03,  6.82586315e-02,  4.57801298e-02,\n",
       "        -1.27626692e-03,  2.16660952e-02, -1.00942572e-02,\n",
       "         8.67385764e-03, -1.10744989e-02, -1.36301696e-02,\n",
       "        -1.51861386e-02,  3.23721453e-02,  1.00000000e+00,\n",
       "        -1.83946960e-02],\n",
       "       [-1.24634967e-02, -1.99437008e-03, -8.26436617e-03,\n",
       "         3.58039485e-03, -5.82465984e-03, -1.82881682e-02,\n",
       "         2.75722257e-02,  6.17423316e-03,  4.85505114e-02,\n",
       "        -7.47095076e-04, -9.64604398e-03, -8.26444108e-03,\n",
       "        -1.18862708e-02,  3.60669022e-03,  1.65223169e-02,\n",
       "        -5.84537574e-03, -2.41785887e-02, -1.83946960e-02,\n",
       "         1.00000000e+00]])"
      ]
     },
     "execution_count": 36,
     "metadata": {},
     "output_type": "execute_result"
    }
   ],
   "source": [
    "corr_stat"
   ]
  },
  {
   "cell_type": "markdown",
   "id": "cbf2cfe7",
   "metadata": {},
   "source": [
    "# Create Histogram for Day minutes spent by customers for churn=0 and 1 values."
   ]
  },
  {
   "cell_type": "markdown",
   "id": "0a25c8a7",
   "metadata": {
    "scrolled": true
   },
   "source": [
    "from pyspark_dist_explore import Histogram, hist, distplot, pandas_histogram\n",
    "fig, axes = plt.subplots()\n",
    "hist(axes, df.groupby(\"DayMins\", 'Churn').count().select('count'), bins=20)\n",
    "axes.set_title('Day minutes spent by customers for churn')\n",
    "axes.legend()\n",
    "axes.set_xlabel('Total Day Minutes')\n",
    "axes.set_ylabel('No. of Customers')\n",
    "\n"
   ]
  },
  {
   "cell_type": "code",
   "execution_count": 98,
   "id": "045a340c",
   "metadata": {},
   "outputs": [
    {
     "data": {
      "text/plain": [
       "Text(0, 0.5, 'No. of Customers')"
      ]
     },
     "execution_count": 98,
     "metadata": {},
     "output_type": "execute_result"
    },
    {
     "data": {
      "image/png": "[encoded data removed]",
      "text/plain": [
       "<Figure size 432x288 with 1 Axes>"
      ]
     },
     "metadata": {
      "needs_background": "light"
     },
     "output_type": "display_data"
    }
   ],
   "source": [
    "fig, axes = plt.subplots()\n",
    "hist(axes, df.groupby(\"DayMins\").count().select('count'), bins=10, facecolor= 'tan')\n",
    "axes.set_title('Day minutes spent by customers in churn')\n",
    "axes.legend()\n",
    "axes.set_xlabel('Total Day Minutes')\n",
    "axes.set_ylabel('No. of Customers')\n"
   ]
  },
  {
   "cell_type": "markdown",
   "id": "46c879e2",
   "metadata": {},
   "source": [
    "# Getting the unique value from the dataframe "
   ]
  },
  {
   "cell_type": "code",
   "execution_count": 34,
   "id": "2fa4e12c",
   "metadata": {},
   "outputs": [
    {
     "data": {
      "text/plain": [
       "array([0, 1])"
      ]
     },
     "execution_count": 34,
     "metadata": {},
     "output_type": "execute_result"
    }
   ],
   "source": [
    "df['Churn'].unique()    #unique()\n"
   ]
  },
  {
   "cell_type": "code",
   "execution_count": 35,
   "id": "1d2a165c",
   "metadata": {},
   "outputs": [
    {
     "data": {
      "text/plain": [
       "2"
      ]
     },
     "execution_count": 35,
     "metadata": {},
     "output_type": "execute_result"
    }
   ],
   "source": [
    "df['DayMins'].nunique()"
   ]
  },
  {
   "cell_type": "code",
   "execution_count": 53,
   "id": "32a3ad45",
   "metadata": {},
   "outputs": [
    {
     "data": {
      "text/plain": [
       "Index(['AccountLength', 'VMailMessage', 'DayMins', 'EveMins', 'NightMins',\n",
       "       'IntlMins', 'CustServCalls', 'Churn', 'IntlPlan', 'VMailPlan',\n",
       "       'DayCalls', 'DayCharge', 'EveCalls', 'EveCharge', 'NightCalls',\n",
       "       'NightCharge', 'IntlCalls', 'IntlCharge', 'AreaCode'],\n",
       "      dtype='object')"
      ]
     },
     "execution_count": 53,
     "metadata": {},
     "output_type": "execute_result"
    }
   ],
   "source": [
    "df.columns"
   ]
  },
  {
   "cell_type": "markdown",
   "id": "7813e840",
   "metadata": {},
   "source": [
    "# Convert the Dataframe to Pandas to perform some statistic analysis\n"
   ]
  },
  {
   "cell_type": "code",
   "execution_count": 8,
   "id": "a840a604",
   "metadata": {},
   "outputs": [
    {
     "data": {
      "text/html": [
       "<div>\n",
       "<style scoped>\n",
       "    .dataframe tbody tr th:only-of-type {\n",
       "        vertical-align: middle;\n",
       "    }\n",
       "\n",
       "    .dataframe tbody tr th {\n",
       "        vertical-align: top;\n",
       "    }\n",
       "\n",
       "    .dataframe thead th {\n",
       "        text-align: right;\n",
       "    }\n",
       "</style>\n",
       "<table border=\"1\" class=\"dataframe\">\n",
       "  <thead>\n",
       "    <tr style=\"text-align: right;\">\n",
       "      <th></th>\n",
       "      <th>AccountLength</th>\n",
       "      <th>VMailMessage</th>\n",
       "      <th>DayMins</th>\n",
       "      <th>EveMins</th>\n",
       "      <th>NightMins</th>\n",
       "      <th>IntlMins</th>\n",
       "      <th>CustServCalls</th>\n",
       "      <th>Churn</th>\n",
       "      <th>IntlPlan</th>\n",
       "      <th>VMailPlan</th>\n",
       "      <th>...</th>\n",
       "      <th>DayCharge</th>\n",
       "      <th>EveCalls</th>\n",
       "      <th>EveCharge</th>\n",
       "      <th>NightCalls</th>\n",
       "      <th>NightCharge</th>\n",
       "      <th>IntlCalls</th>\n",
       "      <th>IntlCharge</th>\n",
       "      <th>State</th>\n",
       "      <th>AreaCode</th>\n",
       "      <th>Phone</th>\n",
       "    </tr>\n",
       "  </thead>\n",
       "  <tbody>\n",
       "    <tr>\n",
       "      <th>0</th>\n",
       "      <td>128</td>\n",
       "      <td>25</td>\n",
       "      <td>265.1</td>\n",
       "      <td>197.4</td>\n",
       "      <td>244.7</td>\n",
       "      <td>10.0</td>\n",
       "      <td>1</td>\n",
       "      <td>0</td>\n",
       "      <td>0</td>\n",
       "      <td>1</td>\n",
       "      <td>...</td>\n",
       "      <td>45.07</td>\n",
       "      <td>99</td>\n",
       "      <td>16.78</td>\n",
       "      <td>91</td>\n",
       "      <td>11.01</td>\n",
       "      <td>3</td>\n",
       "      <td>2.70</td>\n",
       "      <td>KS</td>\n",
       "      <td>415</td>\n",
       "      <td>382-4657</td>\n",
       "    </tr>\n",
       "    <tr>\n",
       "      <th>1</th>\n",
       "      <td>107</td>\n",
       "      <td>26</td>\n",
       "      <td>161.6</td>\n",
       "      <td>195.5</td>\n",
       "      <td>254.4</td>\n",
       "      <td>13.7</td>\n",
       "      <td>1</td>\n",
       "      <td>0</td>\n",
       "      <td>0</td>\n",
       "      <td>1</td>\n",
       "      <td>...</td>\n",
       "      <td>27.47</td>\n",
       "      <td>103</td>\n",
       "      <td>16.62</td>\n",
       "      <td>103</td>\n",
       "      <td>11.45</td>\n",
       "      <td>3</td>\n",
       "      <td>3.70</td>\n",
       "      <td>OH</td>\n",
       "      <td>415</td>\n",
       "      <td>371-7191</td>\n",
       "    </tr>\n",
       "    <tr>\n",
       "      <th>2</th>\n",
       "      <td>137</td>\n",
       "      <td>0</td>\n",
       "      <td>243.4</td>\n",
       "      <td>121.2</td>\n",
       "      <td>162.6</td>\n",
       "      <td>12.2</td>\n",
       "      <td>0</td>\n",
       "      <td>0</td>\n",
       "      <td>0</td>\n",
       "      <td>0</td>\n",
       "      <td>...</td>\n",
       "      <td>41.38</td>\n",
       "      <td>110</td>\n",
       "      <td>10.30</td>\n",
       "      <td>104</td>\n",
       "      <td>7.32</td>\n",
       "      <td>5</td>\n",
       "      <td>3.29</td>\n",
       "      <td>NJ</td>\n",
       "      <td>415</td>\n",
       "      <td>358-1921</td>\n",
       "    </tr>\n",
       "    <tr>\n",
       "      <th>3</th>\n",
       "      <td>84</td>\n",
       "      <td>0</td>\n",
       "      <td>299.4</td>\n",
       "      <td>61.9</td>\n",
       "      <td>196.9</td>\n",
       "      <td>6.6</td>\n",
       "      <td>2</td>\n",
       "      <td>0</td>\n",
       "      <td>1</td>\n",
       "      <td>0</td>\n",
       "      <td>...</td>\n",
       "      <td>50.90</td>\n",
       "      <td>88</td>\n",
       "      <td>5.26</td>\n",
       "      <td>89</td>\n",
       "      <td>8.86</td>\n",
       "      <td>7</td>\n",
       "      <td>1.78</td>\n",
       "      <td>OH</td>\n",
       "      <td>408</td>\n",
       "      <td>375-9999</td>\n",
       "    </tr>\n",
       "    <tr>\n",
       "      <th>4</th>\n",
       "      <td>75</td>\n",
       "      <td>0</td>\n",
       "      <td>166.7</td>\n",
       "      <td>148.3</td>\n",
       "      <td>186.9</td>\n",
       "      <td>10.1</td>\n",
       "      <td>3</td>\n",
       "      <td>0</td>\n",
       "      <td>1</td>\n",
       "      <td>0</td>\n",
       "      <td>...</td>\n",
       "      <td>28.34</td>\n",
       "      <td>122</td>\n",
       "      <td>12.61</td>\n",
       "      <td>121</td>\n",
       "      <td>8.41</td>\n",
       "      <td>3</td>\n",
       "      <td>2.73</td>\n",
       "      <td>OK</td>\n",
       "      <td>415</td>\n",
       "      <td>330-6626</td>\n",
       "    </tr>\n",
       "    <tr>\n",
       "      <th>...</th>\n",
       "      <td>...</td>\n",
       "      <td>...</td>\n",
       "      <td>...</td>\n",
       "      <td>...</td>\n",
       "      <td>...</td>\n",
       "      <td>...</td>\n",
       "      <td>...</td>\n",
       "      <td>...</td>\n",
       "      <td>...</td>\n",
       "      <td>...</td>\n",
       "      <td>...</td>\n",
       "      <td>...</td>\n",
       "      <td>...</td>\n",
       "      <td>...</td>\n",
       "      <td>...</td>\n",
       "      <td>...</td>\n",
       "      <td>...</td>\n",
       "      <td>...</td>\n",
       "      <td>...</td>\n",
       "      <td>...</td>\n",
       "      <td>...</td>\n",
       "    </tr>\n",
       "    <tr>\n",
       "      <th>3328</th>\n",
       "      <td>192</td>\n",
       "      <td>36</td>\n",
       "      <td>156.2</td>\n",
       "      <td>215.5</td>\n",
       "      <td>279.1</td>\n",
       "      <td>9.9</td>\n",
       "      <td>2</td>\n",
       "      <td>0</td>\n",
       "      <td>0</td>\n",
       "      <td>1</td>\n",
       "      <td>...</td>\n",
       "      <td>26.55</td>\n",
       "      <td>126</td>\n",
       "      <td>18.32</td>\n",
       "      <td>83</td>\n",
       "      <td>12.56</td>\n",
       "      <td>6</td>\n",
       "      <td>2.67</td>\n",
       "      <td>AZ</td>\n",
       "      <td>415</td>\n",
       "      <td>414-4276</td>\n",
       "    </tr>\n",
       "    <tr>\n",
       "      <th>3329</th>\n",
       "      <td>68</td>\n",
       "      <td>0</td>\n",
       "      <td>231.1</td>\n",
       "      <td>153.4</td>\n",
       "      <td>191.3</td>\n",
       "      <td>9.6</td>\n",
       "      <td>3</td>\n",
       "      <td>0</td>\n",
       "      <td>0</td>\n",
       "      <td>0</td>\n",
       "      <td>...</td>\n",
       "      <td>39.29</td>\n",
       "      <td>55</td>\n",
       "      <td>13.04</td>\n",
       "      <td>123</td>\n",
       "      <td>8.61</td>\n",
       "      <td>4</td>\n",
       "      <td>2.59</td>\n",
       "      <td>WV</td>\n",
       "      <td>415</td>\n",
       "      <td>370-3271</td>\n",
       "    </tr>\n",
       "    <tr>\n",
       "      <th>3330</th>\n",
       "      <td>28</td>\n",
       "      <td>0</td>\n",
       "      <td>180.8</td>\n",
       "      <td>288.8</td>\n",
       "      <td>191.9</td>\n",
       "      <td>14.1</td>\n",
       "      <td>2</td>\n",
       "      <td>0</td>\n",
       "      <td>0</td>\n",
       "      <td>0</td>\n",
       "      <td>...</td>\n",
       "      <td>30.74</td>\n",
       "      <td>58</td>\n",
       "      <td>24.55</td>\n",
       "      <td>91</td>\n",
       "      <td>8.64</td>\n",
       "      <td>6</td>\n",
       "      <td>3.81</td>\n",
       "      <td>RI</td>\n",
       "      <td>510</td>\n",
       "      <td>328-8230</td>\n",
       "    </tr>\n",
       "    <tr>\n",
       "      <th>3331</th>\n",
       "      <td>184</td>\n",
       "      <td>0</td>\n",
       "      <td>213.8</td>\n",
       "      <td>159.6</td>\n",
       "      <td>139.2</td>\n",
       "      <td>5.0</td>\n",
       "      <td>2</td>\n",
       "      <td>0</td>\n",
       "      <td>1</td>\n",
       "      <td>0</td>\n",
       "      <td>...</td>\n",
       "      <td>36.35</td>\n",
       "      <td>84</td>\n",
       "      <td>13.57</td>\n",
       "      <td>137</td>\n",
       "      <td>6.26</td>\n",
       "      <td>10</td>\n",
       "      <td>1.35</td>\n",
       "      <td>CT</td>\n",
       "      <td>510</td>\n",
       "      <td>364-6381</td>\n",
       "    </tr>\n",
       "    <tr>\n",
       "      <th>3332</th>\n",
       "      <td>74</td>\n",
       "      <td>25</td>\n",
       "      <td>234.4</td>\n",
       "      <td>265.9</td>\n",
       "      <td>241.4</td>\n",
       "      <td>13.7</td>\n",
       "      <td>0</td>\n",
       "      <td>0</td>\n",
       "      <td>0</td>\n",
       "      <td>1</td>\n",
       "      <td>...</td>\n",
       "      <td>39.85</td>\n",
       "      <td>82</td>\n",
       "      <td>22.60</td>\n",
       "      <td>77</td>\n",
       "      <td>10.86</td>\n",
       "      <td>4</td>\n",
       "      <td>3.70</td>\n",
       "      <td>TN</td>\n",
       "      <td>415</td>\n",
       "      <td>400-4344</td>\n",
       "    </tr>\n",
       "  </tbody>\n",
       "</table>\n",
       "<p>3333 rows × 21 columns</p>\n",
       "</div>"
      ],
      "text/plain": [
       "      AccountLength  VMailMessage  DayMins  EveMins  NightMins  IntlMins  \\\n",
       "0               128            25    265.1    197.4      244.7      10.0   \n",
       "1               107            26    161.6    195.5      254.4      13.7   \n",
       "2               137             0    243.4    121.2      162.6      12.2   \n",
       "3                84             0    299.4     61.9      196.9       6.6   \n",
       "4                75             0    166.7    148.3      186.9      10.1   \n",
       "...             ...           ...      ...      ...        ...       ...   \n",
       "3328            192            36    156.2    215.5      279.1       9.9   \n",
       "3329             68             0    231.1    153.4      191.3       9.6   \n",
       "3330             28             0    180.8    288.8      191.9      14.1   \n",
       "3331            184             0    213.8    159.6      139.2       5.0   \n",
       "3332             74            25    234.4    265.9      241.4      13.7   \n",
       "\n",
       "      CustServCalls  Churn  IntlPlan  VMailPlan  ...  DayCharge  EveCalls  \\\n",
       "0                 1      0         0          1  ...      45.07        99   \n",
       "1                 1      0         0          1  ...      27.47       103   \n",
       "2                 0      0         0          0  ...      41.38       110   \n",
       "3                 2      0         1          0  ...      50.90        88   \n",
       "4                 3      0         1          0  ...      28.34       122   \n",
       "...             ...    ...       ...        ...  ...        ...       ...   \n",
       "3328              2      0         0          1  ...      26.55       126   \n",
       "3329              3      0         0          0  ...      39.29        55   \n",
       "3330              2      0         0          0  ...      30.74        58   \n",
       "3331              2      0         1          0  ...      36.35        84   \n",
       "3332              0      0         0          1  ...      39.85        82   \n",
       "\n",
       "      EveCharge  NightCalls  NightCharge  IntlCalls  IntlCharge  State  \\\n",
       "0         16.78          91        11.01          3        2.70     KS   \n",
       "1         16.62         103        11.45          3        3.70     OH   \n",
       "2         10.30         104         7.32          5        3.29     NJ   \n",
       "3          5.26          89         8.86          7        1.78     OH   \n",
       "4         12.61         121         8.41          3        2.73     OK   \n",
       "...         ...         ...          ...        ...         ...    ...   \n",
       "3328      18.32          83        12.56          6        2.67     AZ   \n",
       "3329      13.04         123         8.61          4        2.59     WV   \n",
       "3330      24.55          91         8.64          6        3.81     RI   \n",
       "3331      13.57         137         6.26         10        1.35     CT   \n",
       "3332      22.60          77        10.86          4        3.70     TN   \n",
       "\n",
       "     AreaCode     Phone  \n",
       "0         415  382-4657  \n",
       "1         415  371-7191  \n",
       "2         415  358-1921  \n",
       "3         408  375-9999  \n",
       "4         415  330-6626  \n",
       "...       ...       ...  \n",
       "3328      415  414-4276  \n",
       "3329      415  370-3271  \n",
       "3330      510  328-8230  \n",
       "3331      510  364-6381  \n",
       "3332      415  400-4344  \n",
       "\n",
       "[3333 rows x 21 columns]"
      ]
     },
     "execution_count": 8,
     "metadata": {},
     "output_type": "execute_result"
    }
   ],
   "source": [
    "df = df.toPandas()\n",
    "df\n"
   ]
  },
  {
   "cell_type": "markdown",
   "id": "dce6c8f6",
   "metadata": {},
   "source": [
    "# Data preprocessing with Pandas datatypes"
   ]
  },
  {
   "cell_type": "code",
   "execution_count": 9,
   "id": "b029ea76",
   "metadata": {},
   "outputs": [],
   "source": [
    "df['Churn']= df['Churn'].astype('category')\n",
    "df['Intl Plan']= df['IntlPlan'].astype('category')\n",
    "df['VMail Plan']= df['VMailPlan'].astype('category')"
   ]
  },
  {
   "cell_type": "code",
   "execution_count": 10,
   "id": "ccab7b48",
   "metadata": {},
   "outputs": [
    {
     "data": {
      "text/plain": [
       "AccountLength       int32\n",
       "VMailMessage        int32\n",
       "DayMins           float64\n",
       "EveMins           float64\n",
       "NightMins         float64\n",
       "IntlMins          float64\n",
       "CustServCalls       int32\n",
       "Churn            category\n",
       "IntlPlan            int32\n",
       "VMailPlan           int32\n",
       "DayCalls            int32\n",
       "DayCharge         float64\n",
       "EveCalls            int32\n",
       "EveCharge         float64\n",
       "NightCalls          int32\n",
       "NightCharge       float64\n",
       "IntlCalls           int32\n",
       "IntlCharge        float64\n",
       "State              object\n",
       "AreaCode            int32\n",
       "Phone              object\n",
       "Intl Plan        category\n",
       "VMail Plan       category\n",
       "dtype: object"
      ]
     },
     "execution_count": 10,
     "metadata": {},
     "output_type": "execute_result"
    }
   ],
   "source": [
    "df.dtypes"
   ]
  },
  {
   "cell_type": "code",
   "execution_count": 68,
   "id": "2b7c28c7",
   "metadata": {},
   "outputs": [
    {
     "data": {
      "image/png": "[encoded data removed]",
      "text/plain": [
       "<Figure size 648x216 with 2 Axes>"
      ]
     },
     "metadata": {
      "needs_background": "light"
     },
     "output_type": "display_data"
    }
   ],
   "source": [
    "g = sns.FacetGrid(data=df, col='Churn', col_wrap=3)\n",
    "g.map_dataframe(sns.histplot, x=\"DayMins\")\n",
    "plt.show()\n",
    "\n",
    "#g = sns.FacetGrid(tips, col=\"size\", height=2.5, col_wrap=3)\n",
    "#g.map(sns.histplot, \"total_bill\")"
   ]
  },
  {
   "cell_type": "code",
   "execution_count": 67,
   "id": "71f626fc",
   "metadata": {
    "scrolled": true
   },
   "outputs": [
    {
     "data": {
      "text/plain": [
       "<seaborn.axisgrid.FacetGrid at 0x7f211fc8edd0>"
      ]
     },
     "execution_count": 67,
     "metadata": {},
     "output_type": "execute_result"
    },
    {
     "data": {
      "image/png": "[encoded data removed]",
      "text/plain": [
       "<Figure size 432x216 with 2 Axes>"
      ]
     },
     "metadata": {
      "needs_background": "light"
     },
     "output_type": "display_data"
    }
   ],
   "source": [
    "g = sns.FacetGrid(df, col=\"Churn\")\n",
    "g.map(plt.hist, \"DayMins\")"
   ]
  },
  {
   "cell_type": "markdown",
   "id": "e7f7bf18",
   "metadata": {},
   "source": [
    "# Create count plots for Number of customers opt voicemail plan with Churn values."
   ]
  },
  {
   "cell_type": "code",
   "execution_count": 105,
   "id": "7f418ead",
   "metadata": {},
   "outputs": [
    {
     "name": "stdout",
     "output_type": "stream",
     "text": [
      "+---------+----------+\n",
      "|VMailPlan|TotalChurn|\n",
      "+---------+----------+\n",
      "|        1|       922|\n",
      "|        0|      2411|\n",
      "+---------+----------+\n",
      "\n"
     ]
    }
   ],
   "source": [
    "#How to get the count of each distinct value in a column in \n",
    "sql_query = \"\"\"select VMailPlan, \n",
    "               count(1) as TotalChurn \n",
    "               from Telcom \n",
    "               group by VMailPlan \n",
    "               order by TotalChurn\n",
    "               \"\"\"\n",
    "\n",
    "spark.sql(sql_query).show()\n"
   ]
  },
  {
   "cell_type": "markdown",
   "id": "4b980018",
   "metadata": {},
   "source": [
    "# Seaborn count plot on voicemail plan"
   ]
  },
  {
   "cell_type": "code",
   "execution_count": 70,
   "id": "46d31360",
   "metadata": {},
   "outputs": [
    {
     "data": {
      "text/plain": [
       "<AxesSubplot:xlabel='VMailPlan', ylabel='count'>"
      ]
     },
     "execution_count": 70,
     "metadata": {},
     "output_type": "execute_result"
    },
    {
     "data": {
      "image/png": "[encoded data removed]",
      "text/plain": [
       "<Figure size 432x288 with 1 Axes>"
      ]
     },
     "metadata": {},
     "output_type": "display_data"
    }
   ],
   "source": [
    "import seaborn as sns\n",
    "\n",
    "sns.set(style=\"whitegrid\", color_codes=True)\n",
    "\n",
    "sns.countplot(x=\"VMailPlan\", hue=\"Churn\", data=df)"
   ]
  },
  {
   "cell_type": "markdown",
   "id": "1f446300",
   "metadata": {},
   "source": [
    "# Create count plots for International Plan opt by the customer with Churn values."
   ]
  },
  {
   "cell_type": "code",
   "execution_count": 55,
   "id": "733f9b1f",
   "metadata": {},
   "outputs": [
    {
     "data": {
      "text/html": [
       "<div>\n",
       "<style scoped>\n",
       "    .dataframe tbody tr th:only-of-type {\n",
       "        vertical-align: middle;\n",
       "    }\n",
       "\n",
       "    .dataframe tbody tr th {\n",
       "        vertical-align: top;\n",
       "    }\n",
       "\n",
       "    .dataframe thead th {\n",
       "        text-align: right;\n",
       "    }\n",
       "</style>\n",
       "<table border=\"1\" class=\"dataframe\">\n",
       "  <thead>\n",
       "    <tr style=\"text-align: right;\">\n",
       "      <th></th>\n",
       "      <th>Churn</th>\n",
       "      <th>DayMins</th>\n",
       "    </tr>\n",
       "  </thead>\n",
       "  <tbody>\n",
       "    <tr>\n",
       "      <th>count</th>\n",
       "      <td>10.000000</td>\n",
       "      <td>10.000000</td>\n",
       "    </tr>\n",
       "    <tr>\n",
       "      <th>mean</th>\n",
       "      <td>0.500000</td>\n",
       "      <td>0.300000</td>\n",
       "    </tr>\n",
       "    <tr>\n",
       "      <th>std</th>\n",
       "      <td>0.527046</td>\n",
       "      <td>0.483046</td>\n",
       "    </tr>\n",
       "    <tr>\n",
       "      <th>min</th>\n",
       "      <td>0.000000</td>\n",
       "      <td>0.000000</td>\n",
       "    </tr>\n",
       "    <tr>\n",
       "      <th>25%</th>\n",
       "      <td>0.000000</td>\n",
       "      <td>0.000000</td>\n",
       "    </tr>\n",
       "    <tr>\n",
       "      <th>50%</th>\n",
       "      <td>0.500000</td>\n",
       "      <td>0.000000</td>\n",
       "    </tr>\n",
       "    <tr>\n",
       "      <th>75%</th>\n",
       "      <td>1.000000</td>\n",
       "      <td>0.750000</td>\n",
       "    </tr>\n",
       "    <tr>\n",
       "      <th>max</th>\n",
       "      <td>1.000000</td>\n",
       "      <td>1.000000</td>\n",
       "    </tr>\n",
       "  </tbody>\n",
       "</table>\n",
       "</div>"
      ],
      "text/plain": [
       "           Churn    DayMins\n",
       "count  10.000000  10.000000\n",
       "mean    0.500000   0.300000\n",
       "std     0.527046   0.483046\n",
       "min     0.000000   0.000000\n",
       "25%     0.000000   0.000000\n",
       "50%     0.500000   0.000000\n",
       "75%     1.000000   0.750000\n",
       "max     1.000000   1.000000"
      ]
     },
     "execution_count": 55,
     "metadata": {},
     "output_type": "execute_result"
    }
   ],
   "source": [
    "df.describe()\n"
   ]
  },
  {
   "cell_type": "markdown",
   "id": "6c2542f3",
   "metadata": {},
   "source": [
    "# Create count plots for International Plan opt by the customer with Churn values."
   ]
  },
  {
   "cell_type": "code",
   "execution_count": 61,
   "id": "9415b1a1",
   "metadata": {},
   "outputs": [
    {
     "name": "stdout",
     "output_type": "stream",
     "text": [
      "+--------+-----------------+\n",
      "|IntlPlan|nternational_Plan|\n",
      "+--------+-----------------+\n",
      "|       1|              323|\n",
      "|       0|             3010|\n",
      "+--------+-----------------+\n",
      "\n"
     ]
    }
   ],
   "source": [
    "sql_query = \"\"\"select IntlPlan, \n",
    "               count(1) as nternational_Plan \n",
    "               from Telcom\n",
    "               group by IntlPlan\n",
    "               order by nternational_Plan\n",
    "               \"\"\"\n",
    "\n",
    "spark.sql(sql_query).show()"
   ]
  },
  {
   "cell_type": "code",
   "execution_count": 71,
   "id": "6b6dc67a",
   "metadata": {},
   "outputs": [
    {
     "data": {
      "text/plain": [
       "<AxesSubplot:xlabel='IntlPlan', ylabel='count'>"
      ]
     },
     "execution_count": 71,
     "metadata": {},
     "output_type": "execute_result"
    },
    {
     "data": {
      "image/png": "[encoded data removed]",
      "text/plain": [
       "<Figure size 432x288 with 1 Axes>"
      ]
     },
     "metadata": {},
     "output_type": "display_data"
    }
   ],
   "source": [
    "sns.countplot(x=\"IntlPlan\", hue= \"Churn\", data=df)"
   ]
  },
  {
   "cell_type": "markdown",
   "id": "e7895e87",
   "metadata": {},
   "source": [
    "# Plot Area Wise churner and non-churner."
   ]
  },
  {
   "cell_type": "code",
   "execution_count": 18,
   "id": "0197c043",
   "metadata": {},
   "outputs": [
    {
     "name": "stdout",
     "output_type": "stream",
     "text": [
      "+--------+\n",
      "|AreaCode|\n",
      "+--------+\n",
      "|     415|\n",
      "|     415|\n",
      "|     415|\n",
      "|     408|\n",
      "|     415|\n",
      "|     510|\n",
      "|     510|\n",
      "|     415|\n",
      "|     408|\n",
      "|     415|\n",
      "+--------+\n",
      "only showing top 10 rows\n",
      "\n"
     ]
    }
   ],
   "source": [
    "df.select(['AreaCode']).show(10)"
   ]
  },
  {
   "cell_type": "code",
   "execution_count": 72,
   "id": "ac4e5789",
   "metadata": {},
   "outputs": [
    {
     "name": "stdout",
     "output_type": "stream",
     "text": [
      "+--------+\n",
      "|AreaCode|\n",
      "+--------+\n",
      "|     415|\n",
      "|     510|\n",
      "|     408|\n",
      "+--------+\n",
      "\n"
     ]
    },
    {
     "data": {
      "text/plain": [
       "<AxesSubplot:xlabel='AreaCode', ylabel='count'>"
      ]
     },
     "execution_count": 72,
     "metadata": {},
     "output_type": "execute_result"
    },
    {
     "data": {
      "image/png": "[encoded data removed]",
      "text/plain": [
       "<Figure size 432x288 with 1 Axes>"
      ]
     },
     "metadata": {},
     "output_type": "display_data"
    }
   ],
   "source": [
    "sql_query = \"\"\"select distinct \n",
    "               AreaCode \n",
    "               from Telcom\n",
    "            \n",
    "               \"\"\"\n",
    "\n",
    "spark.sql(sql_query).show()\n",
    "sns.countplot(x=\"AreaCode\", hue= \"Churn\", data=df)"
   ]
  },
  {
   "cell_type": "markdown",
   "id": "818ba86d",
   "metadata": {},
   "source": [
    "# Get correlation matrix using corr() function."
   ]
  },
  {
   "cell_type": "code",
   "execution_count": 84,
   "id": "66005df8",
   "metadata": {},
   "outputs": [
    {
     "data": {
      "text/plain": [
       "0.2598518473454819"
      ]
     },
     "execution_count": 84,
     "metadata": {},
     "output_type": "execute_result"
    }
   ],
   "source": [
    "df.corr(\"IntlPlan\", \"Churn\", method=\"pearson\")"
   ]
  },
  {
   "cell_type": "code",
   "execution_count": 112,
   "id": "f425c052",
   "metadata": {},
   "outputs": [
    {
     "name": "stdout",
     "output_type": "stream",
     "text": [
      "+------------------------+\n",
      "|corr(IntlPlan, AreaCode)|\n",
      "+------------------------+\n",
      "|     0.04855051136707131|\n",
      "+------------------------+\n",
      "\n"
     ]
    }
   ],
   "source": [
    "sql_query = \"\"\"select CORR(IntlPlan, AreaCode)\n",
    "               from Telcom\n",
    "            \n",
    "               \"\"\"\n",
    "\n",
    "spark.sql(sql_query).show()"
   ]
  },
  {
   "cell_type": "markdown",
   "id": "4aeb1915",
   "metadata": {},
   "source": [
    "# Lets check the Correlation Matrix"
   ]
  },
  {
   "cell_type": "code",
   "execution_count": 65,
   "id": "e143b169",
   "metadata": {},
   "outputs": [
    {
     "data": {
      "text/html": [
       "<div>\n",
       "<style scoped>\n",
       "    .dataframe tbody tr th:only-of-type {\n",
       "        vertical-align: middle;\n",
       "    }\n",
       "\n",
       "    .dataframe tbody tr th {\n",
       "        vertical-align: top;\n",
       "    }\n",
       "\n",
       "    .dataframe thead th {\n",
       "        text-align: right;\n",
       "    }\n",
       "</style>\n",
       "<table border=\"1\" class=\"dataframe\">\n",
       "  <thead>\n",
       "    <tr style=\"text-align: right;\">\n",
       "      <th></th>\n",
       "      <th>AccountLength</th>\n",
       "      <th>VMailMessage</th>\n",
       "      <th>DayMins</th>\n",
       "      <th>EveMins</th>\n",
       "      <th>NightMins</th>\n",
       "      <th>IntlMins</th>\n",
       "      <th>CustServCalls</th>\n",
       "      <th>Churn</th>\n",
       "      <th>IntlPlan</th>\n",
       "      <th>VMailPlan</th>\n",
       "      <th>DayCalls</th>\n",
       "      <th>DayCharge</th>\n",
       "      <th>EveCalls</th>\n",
       "      <th>EveCharge</th>\n",
       "      <th>NightCalls</th>\n",
       "      <th>NightCharge</th>\n",
       "      <th>IntlCalls</th>\n",
       "      <th>IntlCharge</th>\n",
       "      <th>AreaCode</th>\n",
       "    </tr>\n",
       "  </thead>\n",
       "  <tbody>\n",
       "    <tr>\n",
       "      <th>AccountLength</th>\n",
       "      <td>1.000000</td>\n",
       "      <td>-0.004628</td>\n",
       "      <td>0.006216</td>\n",
       "      <td>-0.006757</td>\n",
       "      <td>-0.008955</td>\n",
       "      <td>0.009514</td>\n",
       "      <td>-0.003796</td>\n",
       "      <td>0.016541</td>\n",
       "      <td>0.024735</td>\n",
       "      <td>0.002918</td>\n",
       "      <td>0.038470</td>\n",
       "      <td>0.006214</td>\n",
       "      <td>0.019260</td>\n",
       "      <td>-0.006745</td>\n",
       "      <td>-0.013176</td>\n",
       "      <td>-0.008960</td>\n",
       "      <td>0.020661</td>\n",
       "      <td>0.009546</td>\n",
       "      <td>-0.012463</td>\n",
       "    </tr>\n",
       "    <tr>\n",
       "      <th>VMailMessage</th>\n",
       "      <td>-0.004628</td>\n",
       "      <td>1.000000</td>\n",
       "      <td>0.000778</td>\n",
       "      <td>0.017562</td>\n",
       "      <td>0.007681</td>\n",
       "      <td>0.002856</td>\n",
       "      <td>-0.013263</td>\n",
       "      <td>-0.089728</td>\n",
       "      <td>0.008745</td>\n",
       "      <td>0.956927</td>\n",
       "      <td>-0.009548</td>\n",
       "      <td>0.000776</td>\n",
       "      <td>-0.005864</td>\n",
       "      <td>0.017578</td>\n",
       "      <td>0.007123</td>\n",
       "      <td>0.007663</td>\n",
       "      <td>0.013957</td>\n",
       "      <td>0.002884</td>\n",
       "      <td>-0.001994</td>\n",
       "    </tr>\n",
       "    <tr>\n",
       "      <th>DayMins</th>\n",
       "      <td>0.006216</td>\n",
       "      <td>0.000778</td>\n",
       "      <td>1.000000</td>\n",
       "      <td>0.007043</td>\n",
       "      <td>0.004323</td>\n",
       "      <td>-0.010155</td>\n",
       "      <td>-0.013423</td>\n",
       "      <td>0.205151</td>\n",
       "      <td>0.049396</td>\n",
       "      <td>-0.001684</td>\n",
       "      <td>0.006750</td>\n",
       "      <td>1.000000</td>\n",
       "      <td>0.015769</td>\n",
       "      <td>0.007029</td>\n",
       "      <td>0.022972</td>\n",
       "      <td>0.004300</td>\n",
       "      <td>0.008033</td>\n",
       "      <td>-0.010092</td>\n",
       "      <td>-0.008264</td>\n",
       "    </tr>\n",
       "    <tr>\n",
       "      <th>EveMins</th>\n",
       "      <td>-0.006757</td>\n",
       "      <td>0.017562</td>\n",
       "      <td>0.007043</td>\n",
       "      <td>1.000000</td>\n",
       "      <td>-0.012584</td>\n",
       "      <td>-0.011035</td>\n",
       "      <td>-0.012985</td>\n",
       "      <td>0.092796</td>\n",
       "      <td>0.019100</td>\n",
       "      <td>0.021545</td>\n",
       "      <td>-0.021451</td>\n",
       "      <td>0.007050</td>\n",
       "      <td>-0.011430</td>\n",
       "      <td>1.000000</td>\n",
       "      <td>0.007586</td>\n",
       "      <td>-0.012593</td>\n",
       "      <td>0.002541</td>\n",
       "      <td>-0.011067</td>\n",
       "      <td>0.003580</td>\n",
       "    </tr>\n",
       "    <tr>\n",
       "      <th>NightMins</th>\n",
       "      <td>-0.008955</td>\n",
       "      <td>0.007681</td>\n",
       "      <td>0.004323</td>\n",
       "      <td>-0.012584</td>\n",
       "      <td>1.000000</td>\n",
       "      <td>-0.015207</td>\n",
       "      <td>-0.009288</td>\n",
       "      <td>0.035493</td>\n",
       "      <td>-0.028905</td>\n",
       "      <td>0.006079</td>\n",
       "      <td>0.022938</td>\n",
       "      <td>0.004324</td>\n",
       "      <td>-0.002093</td>\n",
       "      <td>-0.012592</td>\n",
       "      <td>0.011204</td>\n",
       "      <td>0.999999</td>\n",
       "      <td>-0.012353</td>\n",
       "      <td>-0.015180</td>\n",
       "      <td>-0.005825</td>\n",
       "    </tr>\n",
       "    <tr>\n",
       "      <th>IntlMins</th>\n",
       "      <td>0.009514</td>\n",
       "      <td>0.002856</td>\n",
       "      <td>-0.010155</td>\n",
       "      <td>-0.011035</td>\n",
       "      <td>-0.015207</td>\n",
       "      <td>1.000000</td>\n",
       "      <td>-0.009640</td>\n",
       "      <td>0.068239</td>\n",
       "      <td>0.045871</td>\n",
       "      <td>-0.001318</td>\n",
       "      <td>0.021565</td>\n",
       "      <td>-0.010157</td>\n",
       "      <td>0.008703</td>\n",
       "      <td>-0.011043</td>\n",
       "      <td>-0.013605</td>\n",
       "      <td>-0.015214</td>\n",
       "      <td>0.032304</td>\n",
       "      <td>0.999993</td>\n",
       "      <td>-0.018288</td>\n",
       "    </tr>\n",
       "    <tr>\n",
       "      <th>CustServCalls</th>\n",
       "      <td>-0.003796</td>\n",
       "      <td>-0.013263</td>\n",
       "      <td>-0.013423</td>\n",
       "      <td>-0.012985</td>\n",
       "      <td>-0.009288</td>\n",
       "      <td>-0.009640</td>\n",
       "      <td>1.000000</td>\n",
       "      <td>0.208750</td>\n",
       "      <td>-0.024522</td>\n",
       "      <td>-0.017824</td>\n",
       "      <td>-0.018942</td>\n",
       "      <td>-0.013427</td>\n",
       "      <td>0.002423</td>\n",
       "      <td>-0.012987</td>\n",
       "      <td>-0.012802</td>\n",
       "      <td>-0.009277</td>\n",
       "      <td>-0.017561</td>\n",
       "      <td>-0.009675</td>\n",
       "      <td>0.027572</td>\n",
       "    </tr>\n",
       "    <tr>\n",
       "      <th>Churn</th>\n",
       "      <td>0.016541</td>\n",
       "      <td>-0.089728</td>\n",
       "      <td>0.205151</td>\n",
       "      <td>0.092796</td>\n",
       "      <td>0.035493</td>\n",
       "      <td>0.068239</td>\n",
       "      <td>0.208750</td>\n",
       "      <td>1.000000</td>\n",
       "      <td>0.259852</td>\n",
       "      <td>-0.102148</td>\n",
       "      <td>0.018459</td>\n",
       "      <td>0.205151</td>\n",
       "      <td>0.009233</td>\n",
       "      <td>0.092786</td>\n",
       "      <td>0.006141</td>\n",
       "      <td>0.035496</td>\n",
       "      <td>-0.052844</td>\n",
       "      <td>0.068259</td>\n",
       "      <td>0.006174</td>\n",
       "    </tr>\n",
       "    <tr>\n",
       "      <th>IntlPlan</th>\n",
       "      <td>0.024735</td>\n",
       "      <td>0.008745</td>\n",
       "      <td>0.049396</td>\n",
       "      <td>0.019100</td>\n",
       "      <td>-0.028905</td>\n",
       "      <td>0.045871</td>\n",
       "      <td>-0.024522</td>\n",
       "      <td>0.259852</td>\n",
       "      <td>1.000000</td>\n",
       "      <td>0.006006</td>\n",
       "      <td>0.003755</td>\n",
       "      <td>0.049398</td>\n",
       "      <td>0.006114</td>\n",
       "      <td>0.019106</td>\n",
       "      <td>0.012451</td>\n",
       "      <td>-0.028913</td>\n",
       "      <td>0.017366</td>\n",
       "      <td>0.045780</td>\n",
       "      <td>0.048551</td>\n",
       "    </tr>\n",
       "    <tr>\n",
       "      <th>VMailPlan</th>\n",
       "      <td>0.002918</td>\n",
       "      <td>0.956927</td>\n",
       "      <td>-0.001684</td>\n",
       "      <td>0.021545</td>\n",
       "      <td>0.006079</td>\n",
       "      <td>-0.001318</td>\n",
       "      <td>-0.017824</td>\n",
       "      <td>-0.102148</td>\n",
       "      <td>0.006006</td>\n",
       "      <td>1.000000</td>\n",
       "      <td>-0.011086</td>\n",
       "      <td>-0.001686</td>\n",
       "      <td>-0.006444</td>\n",
       "      <td>0.021559</td>\n",
       "      <td>0.015553</td>\n",
       "      <td>0.006064</td>\n",
       "      <td>0.007618</td>\n",
       "      <td>-0.001276</td>\n",
       "      <td>-0.000747</td>\n",
       "    </tr>\n",
       "    <tr>\n",
       "      <th>DayCalls</th>\n",
       "      <td>0.038470</td>\n",
       "      <td>-0.009548</td>\n",
       "      <td>0.006750</td>\n",
       "      <td>-0.021451</td>\n",
       "      <td>0.022938</td>\n",
       "      <td>0.021565</td>\n",
       "      <td>-0.018942</td>\n",
       "      <td>0.018459</td>\n",
       "      <td>0.003755</td>\n",
       "      <td>-0.011086</td>\n",
       "      <td>1.000000</td>\n",
       "      <td>0.006753</td>\n",
       "      <td>0.006462</td>\n",
       "      <td>-0.021449</td>\n",
       "      <td>-0.019557</td>\n",
       "      <td>0.022927</td>\n",
       "      <td>0.004574</td>\n",
       "      <td>0.021666</td>\n",
       "      <td>-0.009646</td>\n",
       "    </tr>\n",
       "    <tr>\n",
       "      <th>DayCharge</th>\n",
       "      <td>0.006214</td>\n",
       "      <td>0.000776</td>\n",
       "      <td>1.000000</td>\n",
       "      <td>0.007050</td>\n",
       "      <td>0.004324</td>\n",
       "      <td>-0.010157</td>\n",
       "      <td>-0.013427</td>\n",
       "      <td>0.205151</td>\n",
       "      <td>0.049398</td>\n",
       "      <td>-0.001686</td>\n",
       "      <td>0.006753</td>\n",
       "      <td>1.000000</td>\n",
       "      <td>0.015769</td>\n",
       "      <td>0.007036</td>\n",
       "      <td>0.022972</td>\n",
       "      <td>0.004301</td>\n",
       "      <td>0.008032</td>\n",
       "      <td>-0.010094</td>\n",
       "      <td>-0.008264</td>\n",
       "    </tr>\n",
       "    <tr>\n",
       "      <th>EveCalls</th>\n",
       "      <td>0.019260</td>\n",
       "      <td>-0.005864</td>\n",
       "      <td>0.015769</td>\n",
       "      <td>-0.011430</td>\n",
       "      <td>-0.002093</td>\n",
       "      <td>0.008703</td>\n",
       "      <td>0.002423</td>\n",
       "      <td>0.009233</td>\n",
       "      <td>0.006114</td>\n",
       "      <td>-0.006444</td>\n",
       "      <td>0.006462</td>\n",
       "      <td>0.015769</td>\n",
       "      <td>1.000000</td>\n",
       "      <td>-0.011423</td>\n",
       "      <td>0.007710</td>\n",
       "      <td>-0.002056</td>\n",
       "      <td>0.017434</td>\n",
       "      <td>0.008674</td>\n",
       "      <td>-0.011886</td>\n",
       "    </tr>\n",
       "    <tr>\n",
       "      <th>EveCharge</th>\n",
       "      <td>-0.006745</td>\n",
       "      <td>0.017578</td>\n",
       "      <td>0.007029</td>\n",
       "      <td>1.000000</td>\n",
       "      <td>-0.012592</td>\n",
       "      <td>-0.011043</td>\n",
       "      <td>-0.012987</td>\n",
       "      <td>0.092786</td>\n",
       "      <td>0.019106</td>\n",
       "      <td>0.021559</td>\n",
       "      <td>-0.021449</td>\n",
       "      <td>0.007036</td>\n",
       "      <td>-0.011423</td>\n",
       "      <td>1.000000</td>\n",
       "      <td>0.007596</td>\n",
       "      <td>-0.012601</td>\n",
       "      <td>0.002541</td>\n",
       "      <td>-0.011074</td>\n",
       "      <td>0.003607</td>\n",
       "    </tr>\n",
       "    <tr>\n",
       "      <th>NightCalls</th>\n",
       "      <td>-0.013176</td>\n",
       "      <td>0.007123</td>\n",
       "      <td>0.022972</td>\n",
       "      <td>0.007586</td>\n",
       "      <td>0.011204</td>\n",
       "      <td>-0.013605</td>\n",
       "      <td>-0.012802</td>\n",
       "      <td>0.006141</td>\n",
       "      <td>0.012451</td>\n",
       "      <td>0.015553</td>\n",
       "      <td>-0.019557</td>\n",
       "      <td>0.022972</td>\n",
       "      <td>0.007710</td>\n",
       "      <td>0.007596</td>\n",
       "      <td>1.000000</td>\n",
       "      <td>0.011188</td>\n",
       "      <td>0.000305</td>\n",
       "      <td>-0.013630</td>\n",
       "      <td>0.016522</td>\n",
       "    </tr>\n",
       "    <tr>\n",
       "      <th>NightCharge</th>\n",
       "      <td>-0.008960</td>\n",
       "      <td>0.007663</td>\n",
       "      <td>0.004300</td>\n",
       "      <td>-0.012593</td>\n",
       "      <td>0.999999</td>\n",
       "      <td>-0.015214</td>\n",
       "      <td>-0.009277</td>\n",
       "      <td>0.035496</td>\n",
       "      <td>-0.028913</td>\n",
       "      <td>0.006064</td>\n",
       "      <td>0.022927</td>\n",
       "      <td>0.004301</td>\n",
       "      <td>-0.002056</td>\n",
       "      <td>-0.012601</td>\n",
       "      <td>0.011188</td>\n",
       "      <td>1.000000</td>\n",
       "      <td>-0.012329</td>\n",
       "      <td>-0.015186</td>\n",
       "      <td>-0.005845</td>\n",
       "    </tr>\n",
       "    <tr>\n",
       "      <th>IntlCalls</th>\n",
       "      <td>0.020661</td>\n",
       "      <td>0.013957</td>\n",
       "      <td>0.008033</td>\n",
       "      <td>0.002541</td>\n",
       "      <td>-0.012353</td>\n",
       "      <td>0.032304</td>\n",
       "      <td>-0.017561</td>\n",
       "      <td>-0.052844</td>\n",
       "      <td>0.017366</td>\n",
       "      <td>0.007618</td>\n",
       "      <td>0.004574</td>\n",
       "      <td>0.008032</td>\n",
       "      <td>0.017434</td>\n",
       "      <td>0.002541</td>\n",
       "      <td>0.000305</td>\n",
       "      <td>-0.012329</td>\n",
       "      <td>1.000000</td>\n",
       "      <td>0.032372</td>\n",
       "      <td>-0.024179</td>\n",
       "    </tr>\n",
       "    <tr>\n",
       "      <th>IntlCharge</th>\n",
       "      <td>0.009546</td>\n",
       "      <td>0.002884</td>\n",
       "      <td>-0.010092</td>\n",
       "      <td>-0.011067</td>\n",
       "      <td>-0.015180</td>\n",
       "      <td>0.999993</td>\n",
       "      <td>-0.009675</td>\n",
       "      <td>0.068259</td>\n",
       "      <td>0.045780</td>\n",
       "      <td>-0.001276</td>\n",
       "      <td>0.021666</td>\n",
       "      <td>-0.010094</td>\n",
       "      <td>0.008674</td>\n",
       "      <td>-0.011074</td>\n",
       "      <td>-0.013630</td>\n",
       "      <td>-0.015186</td>\n",
       "      <td>0.032372</td>\n",
       "      <td>1.000000</td>\n",
       "      <td>-0.018395</td>\n",
       "    </tr>\n",
       "    <tr>\n",
       "      <th>AreaCode</th>\n",
       "      <td>-0.012463</td>\n",
       "      <td>-0.001994</td>\n",
       "      <td>-0.008264</td>\n",
       "      <td>0.003580</td>\n",
       "      <td>-0.005825</td>\n",
       "      <td>-0.018288</td>\n",
       "      <td>0.027572</td>\n",
       "      <td>0.006174</td>\n",
       "      <td>0.048551</td>\n",
       "      <td>-0.000747</td>\n",
       "      <td>-0.009646</td>\n",
       "      <td>-0.008264</td>\n",
       "      <td>-0.011886</td>\n",
       "      <td>0.003607</td>\n",
       "      <td>0.016522</td>\n",
       "      <td>-0.005845</td>\n",
       "      <td>-0.024179</td>\n",
       "      <td>-0.018395</td>\n",
       "      <td>1.000000</td>\n",
       "    </tr>\n",
       "  </tbody>\n",
       "</table>\n",
       "</div>"
      ],
      "text/plain": [
       "               AccountLength  VMailMessage   DayMins   EveMins  NightMins  \\\n",
       "AccountLength       1.000000     -0.004628  0.006216 -0.006757  -0.008955   \n",
       "VMailMessage       -0.004628      1.000000  0.000778  0.017562   0.007681   \n",
       "DayMins             0.006216      0.000778  1.000000  0.007043   0.004323   \n",
       "EveMins            -0.006757      0.017562  0.007043  1.000000  -0.012584   \n",
       "NightMins          -0.008955      0.007681  0.004323 -0.012584   1.000000   \n",
       "IntlMins            0.009514      0.002856 -0.010155 -0.011035  -0.015207   \n",
       "CustServCalls      -0.003796     -0.013263 -0.013423 -0.012985  -0.009288   \n",
       "Churn               0.016541     -0.089728  0.205151  0.092796   0.035493   \n",
       "IntlPlan            0.024735      0.008745  0.049396  0.019100  -0.028905   \n",
       "VMailPlan           0.002918      0.956927 -0.001684  0.021545   0.006079   \n",
       "DayCalls            0.038470     -0.009548  0.006750 -0.021451   0.022938   \n",
       "DayCharge           0.006214      0.000776  1.000000  0.007050   0.004324   \n",
       "EveCalls            0.019260     -0.005864  0.015769 -0.011430  -0.002093   \n",
       "EveCharge          -0.006745      0.017578  0.007029  1.000000  -0.012592   \n",
       "NightCalls         -0.013176      0.007123  0.022972  0.007586   0.011204   \n",
       "NightCharge        -0.008960      0.007663  0.004300 -0.012593   0.999999   \n",
       "IntlCalls           0.020661      0.013957  0.008033  0.002541  -0.012353   \n",
       "IntlCharge          0.009546      0.002884 -0.010092 -0.011067  -0.015180   \n",
       "AreaCode           -0.012463     -0.001994 -0.008264  0.003580  -0.005825   \n",
       "\n",
       "               IntlMins  CustServCalls     Churn  IntlPlan  VMailPlan  \\\n",
       "AccountLength  0.009514      -0.003796  0.016541  0.024735   0.002918   \n",
       "VMailMessage   0.002856      -0.013263 -0.089728  0.008745   0.956927   \n",
       "DayMins       -0.010155      -0.013423  0.205151  0.049396  -0.001684   \n",
       "EveMins       -0.011035      -0.012985  0.092796  0.019100   0.021545   \n",
       "NightMins     -0.015207      -0.009288  0.035493 -0.028905   0.006079   \n",
       "IntlMins       1.000000      -0.009640  0.068239  0.045871  -0.001318   \n",
       "CustServCalls -0.009640       1.000000  0.208750 -0.024522  -0.017824   \n",
       "Churn          0.068239       0.208750  1.000000  0.259852  -0.102148   \n",
       "IntlPlan       0.045871      -0.024522  0.259852  1.000000   0.006006   \n",
       "VMailPlan     -0.001318      -0.017824 -0.102148  0.006006   1.000000   \n",
       "DayCalls       0.021565      -0.018942  0.018459  0.003755  -0.011086   \n",
       "DayCharge     -0.010157      -0.013427  0.205151  0.049398  -0.001686   \n",
       "EveCalls       0.008703       0.002423  0.009233  0.006114  -0.006444   \n",
       "EveCharge     -0.011043      -0.012987  0.092786  0.019106   0.021559   \n",
       "NightCalls    -0.013605      -0.012802  0.006141  0.012451   0.015553   \n",
       "NightCharge   -0.015214      -0.009277  0.035496 -0.028913   0.006064   \n",
       "IntlCalls      0.032304      -0.017561 -0.052844  0.017366   0.007618   \n",
       "IntlCharge     0.999993      -0.009675  0.068259  0.045780  -0.001276   \n",
       "AreaCode      -0.018288       0.027572  0.006174  0.048551  -0.000747   \n",
       "\n",
       "               DayCalls  DayCharge  EveCalls  EveCharge  NightCalls  \\\n",
       "AccountLength  0.038470   0.006214  0.019260  -0.006745   -0.013176   \n",
       "VMailMessage  -0.009548   0.000776 -0.005864   0.017578    0.007123   \n",
       "DayMins        0.006750   1.000000  0.015769   0.007029    0.022972   \n",
       "EveMins       -0.021451   0.007050 -0.011430   1.000000    0.007586   \n",
       "NightMins      0.022938   0.004324 -0.002093  -0.012592    0.011204   \n",
       "IntlMins       0.021565  -0.010157  0.008703  -0.011043   -0.013605   \n",
       "CustServCalls -0.018942  -0.013427  0.002423  -0.012987   -0.012802   \n",
       "Churn          0.018459   0.205151  0.009233   0.092786    0.006141   \n",
       "IntlPlan       0.003755   0.049398  0.006114   0.019106    0.012451   \n",
       "VMailPlan     -0.011086  -0.001686 -0.006444   0.021559    0.015553   \n",
       "DayCalls       1.000000   0.006753  0.006462  -0.021449   -0.019557   \n",
       "DayCharge      0.006753   1.000000  0.015769   0.007036    0.022972   \n",
       "EveCalls       0.006462   0.015769  1.000000  -0.011423    0.007710   \n",
       "EveCharge     -0.021449   0.007036 -0.011423   1.000000    0.007596   \n",
       "NightCalls    -0.019557   0.022972  0.007710   0.007596    1.000000   \n",
       "NightCharge    0.022927   0.004301 -0.002056  -0.012601    0.011188   \n",
       "IntlCalls      0.004574   0.008032  0.017434   0.002541    0.000305   \n",
       "IntlCharge     0.021666  -0.010094  0.008674  -0.011074   -0.013630   \n",
       "AreaCode      -0.009646  -0.008264 -0.011886   0.003607    0.016522   \n",
       "\n",
       "               NightCharge  IntlCalls  IntlCharge  AreaCode  \n",
       "AccountLength    -0.008960   0.020661    0.009546 -0.012463  \n",
       "VMailMessage      0.007663   0.013957    0.002884 -0.001994  \n",
       "DayMins           0.004300   0.008033   -0.010092 -0.008264  \n",
       "EveMins          -0.012593   0.002541   -0.011067  0.003580  \n",
       "NightMins         0.999999  -0.012353   -0.015180 -0.005825  \n",
       "IntlMins         -0.015214   0.032304    0.999993 -0.018288  \n",
       "CustServCalls    -0.009277  -0.017561   -0.009675  0.027572  \n",
       "Churn             0.035496  -0.052844    0.068259  0.006174  \n",
       "IntlPlan         -0.028913   0.017366    0.045780  0.048551  \n",
       "VMailPlan         0.006064   0.007618   -0.001276 -0.000747  \n",
       "DayCalls          0.022927   0.004574    0.021666 -0.009646  \n",
       "DayCharge         0.004301   0.008032   -0.010094 -0.008264  \n",
       "EveCalls         -0.002056   0.017434    0.008674 -0.011886  \n",
       "EveCharge        -0.012601   0.002541   -0.011074  0.003607  \n",
       "NightCalls        0.011188   0.000305   -0.013630  0.016522  \n",
       "NightCharge       1.000000  -0.012329   -0.015186 -0.005845  \n",
       "IntlCalls        -0.012329   1.000000    0.032372 -0.024179  \n",
       "IntlCharge       -0.015186   0.032372    1.000000 -0.018395  \n",
       "AreaCode         -0.005845  -0.024179   -0.018395  1.000000  "
      ]
     },
     "execution_count": 65,
     "metadata": {},
     "output_type": "execute_result"
    }
   ],
   "source": [
    "df.corr('pearson')"
   ]
  },
  {
   "cell_type": "markdown",
   "id": "e17b83c9",
   "metadata": {},
   "source": [
    "# Correlation between Predicting Variable and independent variable for future analysis for customer Posibility to Churn the Network."
   ]
  },
  {
   "cell_type": "code",
   "execution_count": 66,
   "id": "1029905c",
   "metadata": {},
   "outputs": [
    {
     "data": {
      "text/plain": [
       "AccountLength    0.016541\n",
       "VMailMessage    -0.089728\n",
       "DayMins          0.205151\n",
       "EveMins          0.092796\n",
       "NightMins        0.035493\n",
       "IntlMins         0.068239\n",
       "CustServCalls    0.208750\n",
       "Churn            1.000000\n",
       "IntlPlan         0.259852\n",
       "VMailPlan       -0.102148\n",
       "DayCalls         0.018459\n",
       "DayCharge        0.205151\n",
       "EveCalls         0.009233\n",
       "EveCharge        0.092786\n",
       "NightCalls       0.006141\n",
       "NightCharge      0.035496\n",
       "IntlCalls       -0.052844\n",
       "IntlCharge       0.068259\n",
       "AreaCode         0.006174\n",
       "Name: Churn, dtype: float64"
      ]
     },
     "execution_count": 66,
     "metadata": {},
     "output_type": "execute_result"
    }
   ],
   "source": [
    "df.corr()['Churn']"
   ]
  },
  {
   "cell_type": "markdown",
   "id": "4ea23e39",
   "metadata": {},
   "source": [
    "From the above analysis we fwe discover DayMins, CustServCalls, IntlPlan has \n",
    "high positive correlation that are predictive to Churn the network, \n",
    "while VMail Message, VMail Plan and Intl Calls has weak negative correlation. \n",
    "While remaining variables has either weak positive or negative correlation.\n",
    "\n",
    "Strong Correlation lies in the range of ±0.5 to ±1\n",
    "Weak Correlation lies in the range of ±0.1 to ±0.1\n",
    "and other correlation lies within range of 0.01 to 0.006"
   ]
  },
  {
   "cell_type": "markdown",
   "id": "270302ca",
   "metadata": {},
   "source": [
    "# Applying Machine Learning Model\n"
   ]
  },
  {
   "cell_type": "markdown",
   "id": "6138a62c",
   "metadata": {},
   "source": [
    "Create vectors of all independent variables using VectorAssembler"
   ]
  },
  {
   "cell_type": "markdown",
   "id": "5d9fc6ee",
   "metadata": {},
   "source": [
    "# Fisrts convert pandas to spark once again to apply ML models"
   ]
  },
  {
   "cell_type": "code",
   "execution_count": 30,
   "id": "ef7072dc",
   "metadata": {},
   "outputs": [
    {
     "name": "stderr",
     "output_type": "stream",
     "text": [
      "\r",
      "[Stage 17:>                                                         (0 + 1) / 1]\r"
     ]
    },
    {
     "name": "stdout",
     "output_type": "stream",
     "text": [
      "+-------------+------------+-------+-------+---------+--------+-------------+-----+--------+---------+--------+---------+--------+---------+----------+-----------+---------+----------+-----+--------+--------+---------+----------+\n",
      "|AccountLength|VMailMessage|DayMins|EveMins|NightMins|IntlMins|CustServCalls|Churn|IntlPlan|VMailPlan|DayCalls|DayCharge|EveCalls|EveCharge|NightCalls|NightCharge|IntlCalls|IntlCharge|State|AreaCode|   Phone|Intl Plan|VMail Plan|\n",
      "+-------------+------------+-------+-------+---------+--------+-------------+-----+--------+---------+--------+---------+--------+---------+----------+-----------+---------+----------+-----+--------+--------+---------+----------+\n",
      "|          128|          25|  265.1|  197.4|    244.7|    10.0|            1|    0|       0|        1|     110|    45.07|      99|    16.78|        91|      11.01|        3|       2.7|   KS|     415|382-4657|        0|         1|\n",
      "|          107|          26|  161.6|  195.5|    254.4|    13.7|            1|    0|       0|        1|     123|    27.47|     103|    16.62|       103|      11.45|        3|       3.7|   OH|     415|371-7191|        0|         1|\n",
      "|          137|           0|  243.4|  121.2|    162.6|    12.2|            0|    0|       0|        0|     114|    41.38|     110|     10.3|       104|       7.32|        5|      3.29|   NJ|     415|358-1921|        0|         0|\n",
      "|           84|           0|  299.4|   61.9|    196.9|     6.6|            2|    0|       1|        0|      71|     50.9|      88|     5.26|        89|       8.86|        7|      1.78|   OH|     408|375-9999|        1|         0|\n",
      "|           75|           0|  166.7|  148.3|    186.9|    10.1|            3|    0|       1|        0|     113|    28.34|     122|    12.61|       121|       8.41|        3|      2.73|   OK|     415|330-6626|        1|         0|\n",
      "+-------------+------------+-------+-------+---------+--------+-------------+-----+--------+---------+--------+---------+--------+---------+----------+-----------+---------+----------+-----+--------+--------+---------+----------+\n",
      "only showing top 5 rows\n",
      "\n"
     ]
    },
    {
     "name": "stderr",
     "output_type": "stream",
     "text": [
      "\r",
      "                                                                                \r"
     ]
    }
   ],
   "source": [
    "# Creating the DataFrame\n",
    "sprak_df = spark.createDataFrame(df)\n",
    "  \n",
    "# Show the DataFrame\n",
    "sprak_df.show(5)\n"
   ]
  },
  {
   "cell_type": "markdown",
   "id": "b315ca89",
   "metadata": {},
   "source": [
    "# Create vectors of all independent variables using VectorAssembler"
   ]
  },
  {
   "cell_type": "code",
   "execution_count": 13,
   "id": "77b0a7f9",
   "metadata": {},
   "outputs": [],
   "source": [
    "from pyspark.ml.stat import Correlation\n",
    "from pyspark.ml.linalg import DenseMatrix, Vectors\n",
    "from pyspark.ml.feature import VectorAssembler\n",
    "from pyspark.sql.functions import *\n",
    "\n",
    "from pyspark.ml.classification import DecisionTreeClassifier\n",
    "from pyspark.ml.evaluation import MulticlassClassificationEvaluator\n",
    "from sklearn.metrics import confusion_matrix\n",
    "from sklearn.datasets import load_iris\n",
    "import sklearn.metrics as metrics\n",
    "\n",
    "\n",
    "assembler = VectorAssembler(\n",
    "    inputCols=['AccountLength', 'VMailMessage', 'DayMins', 'EveMins', 'NightMins',\n",
    "       'IntlMins', 'CustServCalls', 'Churn', 'IntlPlan', 'VMailPlan',\n",
    "       'DayCalls', 'DayCharge', 'EveCalls', 'EveCharge', 'NightCalls',\n",
    "       'NightCharge', 'IntlCalls', 'IntlCharge','AreaCode'],\n",
    "    outputCol=\"features\")\n"
   ]
  },
  {
   "cell_type": "code",
   "execution_count": 14,
   "id": "9e0af460",
   "metadata": {},
   "outputs": [
    {
     "name": "stdout",
     "output_type": "stream",
     "text": [
      "22/12/05 11:30:37 WARN package: Truncated the string representation of a plan since it was too large. This behavior can be adjusted by setting 'spark.sql.debug.maxToStringFields'.\n"
     ]
    },
    {
     "name": "stderr",
     "output_type": "stream",
     "text": [
      "\r",
      "[Stage 6:>                                                          (0 + 1) / 1]\r"
     ]
    },
    {
     "name": "stdout",
     "output_type": "stream",
     "text": [
      "+-------------+------------+-------+-------+---------+--------+-------------+-----+--------+---------+--------+---------+--------+---------+----------+-----------+---------+----------+-----+--------+--------+---------+----------+--------------------+\n",
      "|AccountLength|VMailMessage|DayMins|EveMins|NightMins|IntlMins|CustServCalls|Churn|IntlPlan|VMailPlan|DayCalls|DayCharge|EveCalls|EveCharge|NightCalls|NightCharge|IntlCalls|IntlCharge|State|AreaCode|   Phone|Intl Plan|VMail Plan|            features|\n",
      "+-------------+------------+-------+-------+---------+--------+-------------+-----+--------+---------+--------+---------+--------+---------+----------+-----------+---------+----------+-----+--------+--------+---------+----------+--------------------+\n",
      "|          128|          25|  265.1|  197.4|    244.7|    10.0|            1|    0|       0|        1|     110|    45.07|      99|    16.78|        91|      11.01|        3|       2.7|   KS|     415|382-4657|        0|         1|[128.0,25.0,265.1...|\n",
      "|          107|          26|  161.6|  195.5|    254.4|    13.7|            1|    0|       0|        1|     123|    27.47|     103|    16.62|       103|      11.45|        3|       3.7|   OH|     415|371-7191|        0|         1|[107.0,26.0,161.6...|\n",
      "|          137|           0|  243.4|  121.2|    162.6|    12.2|            0|    0|       0|        0|     114|    41.38|     110|     10.3|       104|       7.32|        5|      3.29|   NJ|     415|358-1921|        0|         0|[137.0,0.0,243.4,...|\n",
      "|           84|           0|  299.4|   61.9|    196.9|     6.6|            2|    0|       1|        0|      71|     50.9|      88|     5.26|        89|       8.86|        7|      1.78|   OH|     408|375-9999|        1|         0|[84.0,0.0,299.4,6...|\n",
      "|           75|           0|  166.7|  148.3|    186.9|    10.1|            3|    0|       1|        0|     113|    28.34|     122|    12.61|       121|       8.41|        3|      2.73|   OK|     415|330-6626|        1|         0|[75.0,0.0,166.7,1...|\n",
      "+-------------+------------+-------+-------+---------+--------+-------------+-----+--------+---------+--------+---------+--------+---------+----------+-----------+---------+----------+-----+--------+--------+---------+----------+--------------------+\n",
      "only showing top 5 rows\n",
      "\n"
     ]
    },
    {
     "name": "stderr",
     "output_type": "stream",
     "text": [
      "\r",
      "                                                                                \r"
     ]
    }
   ],
   "source": [
    "output = assembler.transform(sprak_df)\n",
    "\n",
    "output.show(5)"
   ]
  },
  {
   "cell_type": "markdown",
   "id": "13955cd6",
   "metadata": {},
   "source": [
    "# Each independent Variables  from the Dataframe printed first 5 features"
   ]
  },
  {
   "cell_type": "code",
   "execution_count": 50,
   "id": "8cd7283f",
   "metadata": {},
   "outputs": [
    {
     "name": "stdout",
     "output_type": "stream",
     "text": [
      "+--------------------+\n",
      "|            features|\n",
      "+--------------------+\n",
      "|[128.0,25.0,265.1...|\n",
      "|[107.0,26.0,161.6...|\n",
      "|[137.0,0.0,243.4,...|\n",
      "|[84.0,0.0,299.4,6...|\n",
      "|[75.0,0.0,166.7,1...|\n",
      "+--------------------+\n",
      "only showing top 5 rows\n",
      "\n"
     ]
    }
   ],
   "source": [
    "output.select('features').show(5) \n",
    "\n"
   ]
  },
  {
   "cell_type": "markdown",
   "id": "6a3cd69d",
   "metadata": {},
   "source": [
    "# Apply Decision Tree Classifier using dependent and independent variables."
   ]
  },
  {
   "cell_type": "markdown",
   "id": "24331755",
   "metadata": {},
   "source": [
    "lets split the dataset into trin an test"
   ]
  },
  {
   "cell_type": "code",
   "execution_count": 15,
   "id": "e0ee4622",
   "metadata": {},
   "outputs": [],
   "source": [
    "\n",
    "from sklearn.model_selection import train_test_split \n",
    "\n",
    "train, test = output.randomSplit([0.8, 0.2])\n"
   ]
  },
  {
   "cell_type": "markdown",
   "id": "84deeec1",
   "metadata": {},
   "source": [
    "# Predict the accuracy check with decision tree to understand what customer think "
   ]
  },
  {
   "cell_type": "markdown",
   "id": "3672f96b",
   "metadata": {},
   "source": [
    "I convert the table to pandas so the prediction can be clearly seen on the dataframe.\n",
    "The prediction isat the endside of the table"
   ]
  },
  {
   "cell_type": "markdown",
   "id": "d44f0163",
   "metadata": {},
   "source": [
    "Creating a pipeline to build the classifier."
   ]
  },
  {
   "cell_type": "code",
   "execution_count": 16,
   "id": "56be3a00",
   "metadata": {
    "scrolled": true
   },
   "outputs": [
    {
     "name": "stderr",
     "output_type": "stream",
     "text": [
      "                                                                                \r"
     ]
    },
    {
     "data": {
      "text/html": [
       "<div>\n",
       "<style scoped>\n",
       "    .dataframe tbody tr th:only-of-type {\n",
       "        vertical-align: middle;\n",
       "    }\n",
       "\n",
       "    .dataframe tbody tr th {\n",
       "        vertical-align: top;\n",
       "    }\n",
       "\n",
       "    .dataframe thead th {\n",
       "        text-align: right;\n",
       "    }\n",
       "</style>\n",
       "<table border=\"1\" class=\"dataframe\">\n",
       "  <thead>\n",
       "    <tr style=\"text-align: right;\">\n",
       "      <th></th>\n",
       "      <th>AccountLength</th>\n",
       "      <th>VMailMessage</th>\n",
       "      <th>DayMins</th>\n",
       "      <th>EveMins</th>\n",
       "      <th>NightMins</th>\n",
       "      <th>IntlMins</th>\n",
       "      <th>CustServCalls</th>\n",
       "      <th>Churn</th>\n",
       "      <th>IntlPlan</th>\n",
       "      <th>VMailPlan</th>\n",
       "      <th>...</th>\n",
       "      <th>IntlCharge</th>\n",
       "      <th>State</th>\n",
       "      <th>AreaCode</th>\n",
       "      <th>Phone</th>\n",
       "      <th>Intl Plan</th>\n",
       "      <th>VMail Plan</th>\n",
       "      <th>features</th>\n",
       "      <th>rawPrediction</th>\n",
       "      <th>probability</th>\n",
       "      <th>prediction</th>\n",
       "    </tr>\n",
       "  </thead>\n",
       "  <tbody>\n",
       "    <tr>\n",
       "      <th>0</th>\n",
       "      <td>6</td>\n",
       "      <td>0</td>\n",
       "      <td>226.5</td>\n",
       "      <td>152.1</td>\n",
       "      <td>164.4</td>\n",
       "      <td>9.4</td>\n",
       "      <td>3</td>\n",
       "      <td>0</td>\n",
       "      <td>0</td>\n",
       "      <td>0</td>\n",
       "      <td>...</td>\n",
       "      <td>2.54</td>\n",
       "      <td>OR</td>\n",
       "      <td>408</td>\n",
       "      <td>408-1331</td>\n",
       "      <td>0</td>\n",
       "      <td>0</td>\n",
       "      <td>[6.0, 0.0, 226.5, 152.1, 164.4, 9.4, 3.0, 0.0,...</td>\n",
       "      <td>[2300.0, 0.0]</td>\n",
       "      <td>[1.0, 0.0]</td>\n",
       "      <td>0.0</td>\n",
       "    </tr>\n",
       "    <tr>\n",
       "      <th>1</th>\n",
       "      <td>11</td>\n",
       "      <td>0</td>\n",
       "      <td>143.4</td>\n",
       "      <td>289.4</td>\n",
       "      <td>194.0</td>\n",
       "      <td>9.7</td>\n",
       "      <td>2</td>\n",
       "      <td>0</td>\n",
       "      <td>0</td>\n",
       "      <td>0</td>\n",
       "      <td>...</td>\n",
       "      <td>2.62</td>\n",
       "      <td>NY</td>\n",
       "      <td>415</td>\n",
       "      <td>401-4650</td>\n",
       "      <td>0</td>\n",
       "      <td>0</td>\n",
       "      <td>[11.0, 0.0, 143.4, 289.4, 194.0, 9.7, 2.0, 0.0...</td>\n",
       "      <td>[2300.0, 0.0]</td>\n",
       "      <td>[1.0, 0.0]</td>\n",
       "      <td>0.0</td>\n",
       "    </tr>\n",
       "    <tr>\n",
       "      <th>2</th>\n",
       "      <td>11</td>\n",
       "      <td>28</td>\n",
       "      <td>190.6</td>\n",
       "      <td>220.1</td>\n",
       "      <td>180.3</td>\n",
       "      <td>6.0</td>\n",
       "      <td>3</td>\n",
       "      <td>0</td>\n",
       "      <td>0</td>\n",
       "      <td>1</td>\n",
       "      <td>...</td>\n",
       "      <td>1.62</td>\n",
       "      <td>DC</td>\n",
       "      <td>415</td>\n",
       "      <td>343-1323</td>\n",
       "      <td>0</td>\n",
       "      <td>1</td>\n",
       "      <td>[11.0, 28.0, 190.6, 220.1, 180.3, 6.0, 3.0, 0....</td>\n",
       "      <td>[2300.0, 0.0]</td>\n",
       "      <td>[1.0, 0.0]</td>\n",
       "      <td>0.0</td>\n",
       "    </tr>\n",
       "    <tr>\n",
       "      <th>3</th>\n",
       "      <td>11</td>\n",
       "      <td>38</td>\n",
       "      <td>209.8</td>\n",
       "      <td>196.6</td>\n",
       "      <td>233.0</td>\n",
       "      <td>7.0</td>\n",
       "      <td>1</td>\n",
       "      <td>0</td>\n",
       "      <td>0</td>\n",
       "      <td>1</td>\n",
       "      <td>...</td>\n",
       "      <td>1.89</td>\n",
       "      <td>WV</td>\n",
       "      <td>510</td>\n",
       "      <td>419-4310</td>\n",
       "      <td>0</td>\n",
       "      <td>1</td>\n",
       "      <td>[11.0, 38.0, 209.8, 196.6, 233.0, 7.0, 1.0, 0....</td>\n",
       "      <td>[2300.0, 0.0]</td>\n",
       "      <td>[1.0, 0.0]</td>\n",
       "      <td>0.0</td>\n",
       "    </tr>\n",
       "    <tr>\n",
       "      <th>4</th>\n",
       "      <td>12</td>\n",
       "      <td>0</td>\n",
       "      <td>216.7</td>\n",
       "      <td>116.5</td>\n",
       "      <td>220.0</td>\n",
       "      <td>9.8</td>\n",
       "      <td>2</td>\n",
       "      <td>0</td>\n",
       "      <td>1</td>\n",
       "      <td>0</td>\n",
       "      <td>...</td>\n",
       "      <td>2.65</td>\n",
       "      <td>ND</td>\n",
       "      <td>510</td>\n",
       "      <td>379-5211</td>\n",
       "      <td>1</td>\n",
       "      <td>0</td>\n",
       "      <td>[12.0, 0.0, 216.7, 116.5, 220.0, 9.8, 2.0, 0.0...</td>\n",
       "      <td>[2300.0, 0.0]</td>\n",
       "      <td>[1.0, 0.0]</td>\n",
       "      <td>0.0</td>\n",
       "    </tr>\n",
       "    <tr>\n",
       "      <th>...</th>\n",
       "      <td>...</td>\n",
       "      <td>...</td>\n",
       "      <td>...</td>\n",
       "      <td>...</td>\n",
       "      <td>...</td>\n",
       "      <td>...</td>\n",
       "      <td>...</td>\n",
       "      <td>...</td>\n",
       "      <td>...</td>\n",
       "      <td>...</td>\n",
       "      <td>...</td>\n",
       "      <td>...</td>\n",
       "      <td>...</td>\n",
       "      <td>...</td>\n",
       "      <td>...</td>\n",
       "      <td>...</td>\n",
       "      <td>...</td>\n",
       "      <td>...</td>\n",
       "      <td>...</td>\n",
       "      <td>...</td>\n",
       "      <td>...</td>\n",
       "    </tr>\n",
       "    <tr>\n",
       "      <th>644</th>\n",
       "      <td>184</td>\n",
       "      <td>0</td>\n",
       "      <td>213.8</td>\n",
       "      <td>159.6</td>\n",
       "      <td>139.2</td>\n",
       "      <td>5.0</td>\n",
       "      <td>2</td>\n",
       "      <td>0</td>\n",
       "      <td>1</td>\n",
       "      <td>0</td>\n",
       "      <td>...</td>\n",
       "      <td>1.35</td>\n",
       "      <td>CT</td>\n",
       "      <td>510</td>\n",
       "      <td>364-6381</td>\n",
       "      <td>1</td>\n",
       "      <td>0</td>\n",
       "      <td>[184.0, 0.0, 213.8, 159.6, 139.2, 5.0, 2.0, 0....</td>\n",
       "      <td>[2300.0, 0.0]</td>\n",
       "      <td>[1.0, 0.0]</td>\n",
       "      <td>0.0</td>\n",
       "    </tr>\n",
       "    <tr>\n",
       "      <th>645</th>\n",
       "      <td>189</td>\n",
       "      <td>0</td>\n",
       "      <td>227.8</td>\n",
       "      <td>169.5</td>\n",
       "      <td>201.1</td>\n",
       "      <td>5.6</td>\n",
       "      <td>3</td>\n",
       "      <td>0</td>\n",
       "      <td>0</td>\n",
       "      <td>0</td>\n",
       "      <td>...</td>\n",
       "      <td>1.51</td>\n",
       "      <td>MS</td>\n",
       "      <td>415</td>\n",
       "      <td>411-6501</td>\n",
       "      <td>0</td>\n",
       "      <td>0</td>\n",
       "      <td>[189.0, 0.0, 227.8, 169.5, 201.1, 5.6, 3.0, 0....</td>\n",
       "      <td>[2300.0, 0.0]</td>\n",
       "      <td>[1.0, 0.0]</td>\n",
       "      <td>0.0</td>\n",
       "    </tr>\n",
       "    <tr>\n",
       "      <th>646</th>\n",
       "      <td>201</td>\n",
       "      <td>0</td>\n",
       "      <td>225.9</td>\n",
       "      <td>299.1</td>\n",
       "      <td>251.3</td>\n",
       "      <td>11.2</td>\n",
       "      <td>1</td>\n",
       "      <td>1</td>\n",
       "      <td>0</td>\n",
       "      <td>0</td>\n",
       "      <td>...</td>\n",
       "      <td>3.02</td>\n",
       "      <td>TX</td>\n",
       "      <td>415</td>\n",
       "      <td>415-5476</td>\n",
       "      <td>0</td>\n",
       "      <td>0</td>\n",
       "      <td>[201.0, 0.0, 225.9, 299.1, 251.3, 11.2, 1.0, 1...</td>\n",
       "      <td>[0.0, 384.0]</td>\n",
       "      <td>[0.0, 1.0]</td>\n",
       "      <td>1.0</td>\n",
       "    </tr>\n",
       "    <tr>\n",
       "      <th>647</th>\n",
       "      <td>209</td>\n",
       "      <td>0</td>\n",
       "      <td>153.7</td>\n",
       "      <td>188.6</td>\n",
       "      <td>200.8</td>\n",
       "      <td>10.7</td>\n",
       "      <td>0</td>\n",
       "      <td>0</td>\n",
       "      <td>0</td>\n",
       "      <td>0</td>\n",
       "      <td>...</td>\n",
       "      <td>2.89</td>\n",
       "      <td>NY</td>\n",
       "      <td>415</td>\n",
       "      <td>369-8703</td>\n",
       "      <td>0</td>\n",
       "      <td>0</td>\n",
       "      <td>[209.0, 0.0, 153.7, 188.6, 200.8, 10.7, 0.0, 0...</td>\n",
       "      <td>[2300.0, 0.0]</td>\n",
       "      <td>[1.0, 0.0]</td>\n",
       "      <td>0.0</td>\n",
       "    </tr>\n",
       "    <tr>\n",
       "      <th>648</th>\n",
       "      <td>209</td>\n",
       "      <td>0</td>\n",
       "      <td>255.1</td>\n",
       "      <td>230.6</td>\n",
       "      <td>218.0</td>\n",
       "      <td>8.5</td>\n",
       "      <td>3</td>\n",
       "      <td>1</td>\n",
       "      <td>0</td>\n",
       "      <td>0</td>\n",
       "      <td>...</td>\n",
       "      <td>2.30</td>\n",
       "      <td>SC</td>\n",
       "      <td>510</td>\n",
       "      <td>388-7540</td>\n",
       "      <td>0</td>\n",
       "      <td>0</td>\n",
       "      <td>[209.0, 0.0, 255.1, 230.6, 218.0, 8.5, 3.0, 1....</td>\n",
       "      <td>[0.0, 384.0]</td>\n",
       "      <td>[0.0, 1.0]</td>\n",
       "      <td>1.0</td>\n",
       "    </tr>\n",
       "  </tbody>\n",
       "</table>\n",
       "<p>649 rows × 27 columns</p>\n",
       "</div>"
      ],
      "text/plain": [
       "     AccountLength  VMailMessage  DayMins  EveMins  NightMins  IntlMins  \\\n",
       "0                6             0    226.5    152.1      164.4       9.4   \n",
       "1               11             0    143.4    289.4      194.0       9.7   \n",
       "2               11            28    190.6    220.1      180.3       6.0   \n",
       "3               11            38    209.8    196.6      233.0       7.0   \n",
       "4               12             0    216.7    116.5      220.0       9.8   \n",
       "..             ...           ...      ...      ...        ...       ...   \n",
       "644            184             0    213.8    159.6      139.2       5.0   \n",
       "645            189             0    227.8    169.5      201.1       5.6   \n",
       "646            201             0    225.9    299.1      251.3      11.2   \n",
       "647            209             0    153.7    188.6      200.8      10.7   \n",
       "648            209             0    255.1    230.6      218.0       8.5   \n",
       "\n",
       "     CustServCalls  Churn  IntlPlan  VMailPlan  ...  IntlCharge  State  \\\n",
       "0                3      0         0          0  ...        2.54     OR   \n",
       "1                2      0         0          0  ...        2.62     NY   \n",
       "2                3      0         0          1  ...        1.62     DC   \n",
       "3                1      0         0          1  ...        1.89     WV   \n",
       "4                2      0         1          0  ...        2.65     ND   \n",
       "..             ...    ...       ...        ...  ...         ...    ...   \n",
       "644              2      0         1          0  ...        1.35     CT   \n",
       "645              3      0         0          0  ...        1.51     MS   \n",
       "646              1      1         0          0  ...        3.02     TX   \n",
       "647              0      0         0          0  ...        2.89     NY   \n",
       "648              3      1         0          0  ...        2.30     SC   \n",
       "\n",
       "     AreaCode     Phone  Intl Plan  VMail Plan  \\\n",
       "0         408  408-1331          0           0   \n",
       "1         415  401-4650          0           0   \n",
       "2         415  343-1323          0           1   \n",
       "3         510  419-4310          0           1   \n",
       "4         510  379-5211          1           0   \n",
       "..        ...       ...        ...         ...   \n",
       "644       510  364-6381          1           0   \n",
       "645       415  411-6501          0           0   \n",
       "646       415  415-5476          0           0   \n",
       "647       415  369-8703          0           0   \n",
       "648       510  388-7540          0           0   \n",
       "\n",
       "                                              features  rawPrediction  \\\n",
       "0    [6.0, 0.0, 226.5, 152.1, 164.4, 9.4, 3.0, 0.0,...  [2300.0, 0.0]   \n",
       "1    [11.0, 0.0, 143.4, 289.4, 194.0, 9.7, 2.0, 0.0...  [2300.0, 0.0]   \n",
       "2    [11.0, 28.0, 190.6, 220.1, 180.3, 6.0, 3.0, 0....  [2300.0, 0.0]   \n",
       "3    [11.0, 38.0, 209.8, 196.6, 233.0, 7.0, 1.0, 0....  [2300.0, 0.0]   \n",
       "4    [12.0, 0.0, 216.7, 116.5, 220.0, 9.8, 2.0, 0.0...  [2300.0, 0.0]   \n",
       "..                                                 ...            ...   \n",
       "644  [184.0, 0.0, 213.8, 159.6, 139.2, 5.0, 2.0, 0....  [2300.0, 0.0]   \n",
       "645  [189.0, 0.0, 227.8, 169.5, 201.1, 5.6, 3.0, 0....  [2300.0, 0.0]   \n",
       "646  [201.0, 0.0, 225.9, 299.1, 251.3, 11.2, 1.0, 1...   [0.0, 384.0]   \n",
       "647  [209.0, 0.0, 153.7, 188.6, 200.8, 10.7, 0.0, 0...  [2300.0, 0.0]   \n",
       "648  [209.0, 0.0, 255.1, 230.6, 218.0, 8.5, 3.0, 1....   [0.0, 384.0]   \n",
       "\n",
       "    probability  prediction  \n",
       "0    [1.0, 0.0]         0.0  \n",
       "1    [1.0, 0.0]         0.0  \n",
       "2    [1.0, 0.0]         0.0  \n",
       "3    [1.0, 0.0]         0.0  \n",
       "4    [1.0, 0.0]         0.0  \n",
       "..          ...         ...  \n",
       "644  [1.0, 0.0]         0.0  \n",
       "645  [1.0, 0.0]         0.0  \n",
       "646  [0.0, 1.0]         1.0  \n",
       "647  [1.0, 0.0]         0.0  \n",
       "648  [0.0, 1.0]         1.0  \n",
       "\n",
       "[649 rows x 27 columns]"
      ]
     },
     "execution_count": 16,
     "metadata": {},
     "output_type": "execute_result"
    }
   ],
   "source": [
    "\n",
    "treePred = DecisionTreeClassifier(featuresCol=\"features\", labelCol='Churn')\n",
    "treePred = treePred.fit(train)\n",
    "\n",
    "pred = treePred.transform(test)\n",
    "pred.toPandas()\n",
    "\n"
   ]
  },
  {
   "cell_type": "code",
   "execution_count": 17,
   "id": "7d5c0ea5",
   "metadata": {},
   "outputs": [
    {
     "name": "stdout",
     "output_type": "stream",
     "text": [
      "root\n",
      " |-- AccountLength: long (nullable = true)\n",
      " |-- VMailMessage: long (nullable = true)\n",
      " |-- DayMins: double (nullable = true)\n",
      " |-- EveMins: double (nullable = true)\n",
      " |-- NightMins: double (nullable = true)\n",
      " |-- IntlMins: double (nullable = true)\n",
      " |-- CustServCalls: long (nullable = true)\n",
      " |-- Churn: long (nullable = true)\n",
      " |-- IntlPlan: long (nullable = true)\n",
      " |-- VMailPlan: long (nullable = true)\n",
      " |-- DayCalls: long (nullable = true)\n",
      " |-- DayCharge: double (nullable = true)\n",
      " |-- EveCalls: long (nullable = true)\n",
      " |-- EveCharge: double (nullable = true)\n",
      " |-- NightCalls: long (nullable = true)\n",
      " |-- NightCharge: double (nullable = true)\n",
      " |-- IntlCalls: long (nullable = true)\n",
      " |-- IntlCharge: double (nullable = true)\n",
      " |-- State: string (nullable = true)\n",
      " |-- AreaCode: long (nullable = true)\n",
      " |-- Phone: string (nullable = true)\n",
      " |-- Intl Plan: long (nullable = true)\n",
      " |-- VMail Plan: long (nullable = true)\n",
      " |-- features: vector (nullable = true)\n",
      " |-- rawPrediction: vector (nullable = true)\n",
      " |-- probability: vector (nullable = true)\n",
      " |-- prediction: double (nullable = false)\n",
      "\n"
     ]
    }
   ],
   "source": [
    "\n",
    "pred.printSchema()"
   ]
  },
  {
   "cell_type": "markdown",
   "id": "fa535d82",
   "metadata": {},
   "source": [
    "# Evaluating the Model with muticlassification metrix"
   ]
  },
  {
   "cell_type": "markdown",
   "id": "4bb3310d",
   "metadata": {},
   "source": [
    "After going through the models, we can see the predicted test data and accuracy metrics. \n",
    "we used the function MulticlassClassificationEvaluator from pyspark to check the accuracy metrix and the confusion matrix \n",
    "can also be created using confusion_matrix function from sklearn.metrics module."
   ]
  },
  {
   "cell_type": "code",
   "execution_count": 35,
   "id": "77036424",
   "metadata": {},
   "outputs": [
    {
     "name": "stdout",
     "output_type": "stream",
     "text": [
      "Prediction Accuracy: \n"
     ]
    },
    {
     "name": "stderr",
     "output_type": "stream",
     "text": [
      "                                                                                \r"
     ]
    },
    {
     "name": "stdout",
     "output_type": "stream",
     "text": [
      "Accuracy: 1.0\n",
      "Precision: 1.0\n",
      "recall: 1.0\n",
      "Confusion Matrix:\n",
      "[[595   0]\n",
      " [  0  99]]\n"
     ]
    }
   ],
   "source": [
    "modelEvaluator=MulticlassClassificationEvaluator(predictionCol=\"prediction\")\n",
    " \n",
    "print(\"Prediction Accuracy: \")\n",
    " \n",
    "x_pred=pred.select(\"prediction\").collect()\n",
    "y_orig=pred.select(\"Churn\").collect()\n",
    "\n",
    "commonMtrix= confusion_matrix(y_orig, x_pred)\n",
    "print(\"Accuracy:\",metrics.accuracy_score(y_orig, x_pred))\n",
    "print('Precision:', metrics.precision_score(y_orig, x_pred))\n",
    "print('recall:', metrics.recall_score(y_orig, x_pred))\n",
    "\n",
    "\n",
    "print(\"Confusion Matrix:\")\n",
    "print(commonMtrix)\n",
    "\n",
    "\n",
    "\n"
   ]
  },
  {
   "cell_type": "markdown",
   "id": "fad33376",
   "metadata": {},
   "source": [
    "# Using metric classification method to alculate recall, precision, score and individual support which gives us the total sample size."
   ]
  },
  {
   "cell_type": "code",
   "execution_count": 36,
   "id": "5b6aa30c",
   "metadata": {},
   "outputs": [
    {
     "name": "stdout",
     "output_type": "stream",
     "text": [
      "              precision    recall  f1-score   support\n",
      "\n",
      "           0       1.00      1.00      1.00       595\n",
      "           1       1.00      1.00      1.00        99\n",
      "\n",
      "    accuracy                           1.00       694\n",
      "   macro avg       1.00      1.00      1.00       694\n",
      "weighted avg       1.00      1.00      1.00       694\n",
      "\n"
     ]
    }
   ],
   "source": [
    "print(metrics.classification_report(y_orig, x_pred))"
   ]
  },
  {
   "cell_type": "markdown",
   "id": "9be061eb",
   "metadata": {},
   "source": [
    "# Visualizing the Decision tree "
   ]
  },
  {
   "cell_type": "code",
   "execution_count": 33,
   "id": "b962b0df",
   "metadata": {},
   "outputs": [],
   "source": [
    "from spark_tree_plotting import plot_tree\n",
    "from spark_tree_plotting import export_graphviz\n",
    "from PIL import Image\n",
    "import io\n",
    "import pydotplus\n",
    "\n",
    "png_model = plot_tree(treePred,\n",
    "                       featureNames=['AccountLength', 'VMailMessage', 'DayMins', 'EveMins', 'NightMins',\n",
    "                                     'IntlMins', 'CustServCalls', 'Churn', 'IntlPlan', 'VMailPlan',\n",
    "                                     'DayCalls', 'DayCharge', 'EveCalls', 'EveCharge', 'NightCalls',\n",
    "                                     'NightCharge', 'IntlCalls', 'IntlCharge','AreaCode'],\n",
    "                       categoryNames={},\n",
    "                       classNames=treePred.Churn,\n",
    "                       filled=True,\n",
    "                       roundedCorners=True,\n",
    "                       roundLeaves=True)\n",
    "                       \n",
    "image = Image.open(io.BytesIO(png_model))\n"
   ]
  },
  {
   "cell_type": "code",
   "execution_count": null,
   "id": "a3cb40d5",
   "metadata": {},
   "outputs": [],
   "source": []
  }
 ],
 "metadata": {
  "kernelspec": {
   "display_name": "Python 3 (ipykernel)",
   "language": "python",
   "name": "python3"
  },
  "language_info": {
   "codemirror_mode": {
    "name": "ipython",
    "version": 3
   },
   "file_extension": ".py",
   "mimetype": "text/x-python",
   "name": "python",
   "nbconvert_exporter": "python",
   "pygments_lexer": "ipython3",
   "version": "3.10.6"
  }
 },
 "nbformat": 4,
 "nbformat_minor": 5
}
